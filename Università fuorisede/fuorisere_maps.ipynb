{
 "cells": [
  {
   "cell_type": "code",
   "execution_count": 2,
   "id": "7c00a120",
   "metadata": {},
   "outputs": [],
   "source": [
    "import geopandas as gpd\n",
    "import pandas as pd\n",
    "import re\n",
    "import json"
   ]
  },
  {
   "cell_type": "code",
   "execution_count": 3,
   "id": "f1e3fa73",
   "metadata": {},
   "outputs": [],
   "source": [
    "gdf = gpd.read_file('/Users/sava/Downloads/Limiti01012022_g/ProvCM01012022_g/ProvCM01012022_g_WGS84.dbf')"
   ]
  },
  {
   "cell_type": "code",
   "execution_count": 8,
   "id": "510a1c11",
   "metadata": {},
   "outputs": [],
   "source": [
    "decoder = pd.read_csv('http://dati.ustat.miur.it/dataset/3dd9ca7f-9cc9-4a1a-915c-e569b181dbd5/resource/eae4ee94-0797-41d2-b007-bc6dad3ef3e2/download/07_iscrittixresidenza.csv', delimiter=';')\n",
    "\n",
    "prov_cod = dict(zip(decoder['ResidenzaP'],decoder['IstatP']))\n",
    "cod_prov = dict(zip(decoder['IstatP'],decoder['ResidenzaP']))"
   ]
  },
  {
   "cell_type": "code",
   "execution_count": 9,
   "id": "fe586d75",
   "metadata": {},
   "outputs": [],
   "source": [
    "cod_prov[104] = 'Olbia-Tempio'.upper()\n",
    "prov_cod['Olbia-Tempio'.upper()] = 104"
   ]
  },
  {
   "cell_type": "markdown",
   "id": "736b04f4",
   "metadata": {},
   "source": [
    "# Adesso creiamo province confinanti"
   ]
  },
  {
   "cell_type": "code",
   "execution_count": 84,
   "id": "15cef987",
   "metadata": {
    "scrolled": true
   },
   "outputs": [],
   "source": [
    "confini = []\n",
    "for index,row in gdf.iterrows():\n",
    "    gdf_filtrato = gdf[~gdf['geometry'].disjoint(row['geometry'])]\n",
    "    lista = [nome for nome in gdf_filtrato['COD_PROV'] if nome!= row['COD_PROV']]\n",
    "    confini.append(lista)"
   ]
  },
  {
   "cell_type": "code",
   "execution_count": 85,
   "id": "20644557",
   "metadata": {},
   "outputs": [],
   "source": [
    "gdf['confini']=confini"
   ]
  },
  {
   "cell_type": "code",
   "execution_count": 92,
   "id": "1ca6d81a",
   "metadata": {},
   "outputs": [],
   "source": [
    "decoders = dict(zip(gdf['COD_PROV'],gdf['confini']))"
   ]
  },
  {
   "cell_type": "code",
   "execution_count": 93,
   "id": "108214a2",
   "metadata": {},
   "outputs": [],
   "source": [
    "with open('cod_confini.json','w') as file:\n",
    "    json.dump(decoders,file)"
   ]
  },
  {
   "cell_type": "markdown",
   "id": "6a0cc7c6",
   "metadata": {},
   "source": [
    "# Geojson"
   ]
  },
  {
   "cell_type": "code",
   "execution_count": 11,
   "id": "6b1c92cc",
   "metadata": {},
   "outputs": [],
   "source": [
    "gdf['nome'] = gdf['COD_PROV'].apply(lambda x: cod_prov[x])"
   ]
  },
  {
   "cell_type": "code",
   "execution_count": 15,
   "id": "28fa960c",
   "metadata": {},
   "outputs": [],
   "source": [
    "gdf = gdf.to_crs('EPSG:4326')"
   ]
  },
  {
   "cell_type": "code",
   "execution_count": 17,
   "id": "7e017d26",
   "metadata": {},
   "outputs": [],
   "source": [
    "gdf.to_file('italia.geojson', driver='GeoJSON')"
   ]
  },
  {
   "cell_type": "code",
   "execution_count": null,
   "id": "5fdac8ab",
   "metadata": {},
   "outputs": [],
   "source": []
  }
 ],
 "metadata": {
  "kernelspec": {
   "display_name": "Python 3",
   "language": "python",
   "name": "python3"
  },
  "language_info": {
   "codemirror_mode": {
    "name": "ipython",
    "version": 3
   },
   "file_extension": ".py",
   "mimetype": "text/x-python",
   "name": "python",
   "nbconvert_exporter": "python",
   "pygments_lexer": "ipython3",
   "version": "3.7.13"
  }
 },
 "nbformat": 4,
 "nbformat_minor": 5
}
