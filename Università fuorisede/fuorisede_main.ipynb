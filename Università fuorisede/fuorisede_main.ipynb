{
 "cells": [
  {
   "cell_type": "code",
   "execution_count": 10,
   "id": "a4f23a3d",
   "metadata": {},
   "outputs": [],
   "source": [
    "import pandas as pd\n",
    "import numpy as np\n",
    "import re\n",
    "import json"
   ]
  },
  {
   "cell_type": "code",
   "execution_count": 20,
   "id": "66c97d37",
   "metadata": {},
   "outputs": [],
   "source": [
    "df = pd.read_csv('http://dati.ustat.miur.it/dataset/3dd9ca7f-9cc9-4a1a-915c-e569b181dbd5/resource/b270ef1a-c219-48b1-8399-b1458e225d39/download/14_iscrittixresidenzasedecorsogruppo.csv', delimiter=';')\n",
    "\n",
    "decoder = pd.read_csv('http://dati.ustat.miur.it/dataset/3dd9ca7f-9cc9-4a1a-915c-e569b181dbd5/resource/eae4ee94-0797-41d2-b007-bc6dad3ef3e2/download/07_iscrittixresidenza.csv', delimiter=';')\n",
    "\n",
    "with open('decoders.json','r') as file:\n",
    "    decoders = json.load(file)\n",
    "\n",
    "cod_prov = decoders[0]\n",
    "prov_cod = decoders[1]\n",
    "\n",
    "df = df[df['AnnoA']=='2021/2022']\n",
    "\n",
    "df['ResidenzaCOD'] = df['ResidenzaR'].apply(lambda x: prov_cod[x])"
   ]
  },
  {
   "cell_type": "code",
   "execution_count": 21,
   "id": "940e6b4b",
   "metadata": {},
   "outputs": [],
   "source": [
    "with open('cod_confini.json','r') as file:\n",
    "    dec_conf = json.load(file)"
   ]
  },
  {
   "cell_type": "code",
   "execution_count": 22,
   "id": "434de8d3",
   "metadata": {
    "scrolled": true
   },
   "outputs": [],
   "source": [
    "filtro = [] \n",
    "for i,value in df.iterrows():\n",
    "    prov = value['ResidenzaCOD']\n",
    "    confini = dec_conf.get(str(prov),[])\n",
    "    is_confinante = value['SedeP'] in confini \n",
    "    filtro.append(is_confinante)"
   ]
  },
  {
   "cell_type": "code",
   "execution_count": 23,
   "id": "d0893fc4",
   "metadata": {},
   "outputs": [],
   "source": [
    "pendolari = df[filtro]"
   ]
  },
  {
   "cell_type": "code",
   "execution_count": 24,
   "id": "3a771871",
   "metadata": {
    "scrolled": false
   },
   "outputs": [
    {
     "name": "stderr",
     "output_type": "stream",
     "text": [
      "/Users/sava/opt/anaconda3/envs/pythonforjournalists/lib/python3.7/site-packages/ipykernel_launcher.py:1: SettingWithCopyWarning: \n",
      "A value is trying to be set on a copy of a slice from a DataFrame.\n",
      "Try using .loc[row_indexer,col_indexer] = value instead\n",
      "\n",
      "See the caveats in the documentation: https://pandas.pydata.org/pandas-docs/stable/user_guide/indexing.html#returning-a-view-versus-a-copy\n",
      "  \"\"\"Entry point for launching an IPython kernel.\n"
     ]
    }
   ],
   "source": [
    "pendolari['sede_ateneo'] = pendolari['SedeP'].apply(lambda x: cod_prov[str(x)])"
   ]
  },
  {
   "cell_type": "code",
   "execution_count": 25,
   "id": "5a48a009",
   "metadata": {
    "scrolled": true
   },
   "outputs": [],
   "source": [
    "df['sede_ateneo'] = df['SedeP'].apply(lambda x: cod_prov[str(x)])"
   ]
  },
  {
   "cell_type": "code",
   "execution_count": 26,
   "id": "b153cc61",
   "metadata": {},
   "outputs": [],
   "source": [
    "fuorisede = df[df['SedeP']!=df['ResidenzaCOD']]"
   ]
  },
  {
   "cell_type": "code",
   "execution_count": 27,
   "id": "924196e1",
   "metadata": {
    "scrolled": true
   },
   "outputs": [
    {
     "name": "stderr",
     "output_type": "stream",
     "text": [
      "/Users/sava/opt/anaconda3/envs/pythonforjournalists/lib/python3.7/site-packages/ipykernel_launcher.py:1: SettingWithCopyWarning: \n",
      "A value is trying to be set on a copy of a slice from a DataFrame.\n",
      "Try using .loc[row_indexer,col_indexer] = value instead\n",
      "\n",
      "See the caveats in the documentation: https://pandas.pydata.org/pandas-docs/stable/user_guide/indexing.html#returning-a-view-versus-a-copy\n",
      "  \"\"\"Entry point for launching an IPython kernel.\n"
     ]
    }
   ],
   "source": [
    "fuorisede['sede_ateneo']=fuorisede['SedeP'].apply(lambda x: cod_prov[str(x)])"
   ]
  },
  {
   "cell_type": "markdown",
   "id": "f420cf8e",
   "metadata": {},
   "source": [
    "# Uni con più pendolari"
   ]
  },
  {
   "cell_type": "code",
   "execution_count": 28,
   "id": "04f29426",
   "metadata": {},
   "outputs": [],
   "source": [
    "unis = []\n",
    "rapps = []\n",
    "for uni in df['AteneoNOME'].unique():\n",
    "    n_p = pendolari[pendolari['AteneoNOME']==uni]['Isc'].sum() #numero pendolari\n",
    "    n_t = df[df['AteneoNOME']==uni]['Isc'].sum() #numero totali\n",
    "    r = n_p/n_t*100\n",
    "    unis.append(uni)\n",
    "    rapps.append(r)"
   ]
  },
  {
   "cell_type": "code",
   "execution_count": 29,
   "id": "94e11675",
   "metadata": {},
   "outputs": [],
   "source": [
    "uni_pendolari = pd.DataFrame({'uni':unis,\n",
    "             'pendolari/totale':rapps}).sort_values(by='pendolari/totale', ascending=False)"
   ]
  },
  {
   "cell_type": "code",
   "execution_count": 15,
   "id": "49cb7b4a",
   "metadata": {},
   "outputs": [],
   "source": [
    "uni_pendolari.to_csv('pendolari_per_uni.csv', index=False)"
   ]
  },
  {
   "cell_type": "markdown",
   "id": "2f53beed",
   "metadata": {},
   "source": [
    "# Adesso cerchiamo province che attirano più pendolari!"
   ]
  },
  {
   "cell_type": "code",
   "execution_count": 21,
   "id": "5ec98b34",
   "metadata": {},
   "outputs": [],
   "source": [
    "provs = []\n",
    "rapps = []\n",
    "for prov in df['sede_ateneo'].unique():\n",
    "    n_pendolari = pendolari[pendolari['sede_ateneo']==prov]['Isc'].sum()\n",
    "    n_tot = df[df['sede_ateneo']==prov]['Isc'].sum()\n",
    "    if n_tot > 1000:\n",
    "        r = n_pendolari/n_tot*100\n",
    "        provs.append(prov)\n",
    "        rapps.append(r)"
   ]
  },
  {
   "cell_type": "code",
   "execution_count": 22,
   "id": "b7b0c60b",
   "metadata": {},
   "outputs": [],
   "source": [
    "pendolari_tot = pd.DataFrame({\n",
    "    'province':provs,\n",
    "    'pendolari/totale':rapps\n",
    "}).sort_values(by='pendolari/totale',ascending=False)"
   ]
  },
  {
   "cell_type": "code",
   "execution_count": 23,
   "id": "17f1d9a3",
   "metadata": {},
   "outputs": [],
   "source": [
    "pendolari_tot['cod'] = pendolari_tot['province'].apply(lambda x: prov_cod[x])"
   ]
  },
  {
   "cell_type": "code",
   "execution_count": 24,
   "id": "eb35c50b",
   "metadata": {},
   "outputs": [
    {
     "data": {
      "text/plain": [
       "(101, 3)"
      ]
     },
     "execution_count": 24,
     "metadata": {},
     "output_type": "execute_result"
    }
   ],
   "source": [
    "pendolari_tot.shape"
   ]
  },
  {
   "cell_type": "code",
   "execution_count": 140,
   "id": "feacf30d",
   "metadata": {},
   "outputs": [],
   "source": [
    "pendolari_tot.to_csv('province_con_più_pendolari.csv',index=False)"
   ]
  },
  {
   "cell_type": "markdown",
   "id": "044a3abe",
   "metadata": {},
   "source": [
    "# Uni con più fuorisede (NON REAL)"
   ]
  },
  {
   "cell_type": "code",
   "execution_count": 30,
   "id": "70718992",
   "metadata": {},
   "outputs": [],
   "source": [
    "unis = []\n",
    "rapps = []\n",
    "for uni in df['AteneoNOME'].unique():\n",
    "    n_f = fuorisede[fuorisede['AteneoNOME']==uni]['Isc'].sum()\n",
    "    n_t = df[df['AteneoNOME']==uni]['Isc'].sum() #numero totali\n",
    "    \n",
    "    if n_f <0:\n",
    "        raise Exception('Qualcosa non va')\n",
    "    r = n_f/n_t*100\n",
    "    unis.append(uni)\n",
    "    rapps.append(r)"
   ]
  },
  {
   "cell_type": "code",
   "execution_count": 31,
   "id": "adfae735",
   "metadata": {},
   "outputs": [],
   "source": [
    "uni_fuorisede = pd.DataFrame({\n",
    "    'Unis':unis,\n",
    "    'fuorisede/totale':rapps,\n",
    "}).sort_values(by='fuorisede/totale',ascending=False)"
   ]
  },
  {
   "cell_type": "code",
   "execution_count": 36,
   "id": "a31ba627",
   "metadata": {},
   "outputs": [],
   "source": [
    "uni_fuorisede.to_csv('fuorisede_per_uni.csv',index=False)"
   ]
  },
  {
   "cell_type": "markdown",
   "id": "cb4a9765",
   "metadata": {},
   "source": [
    "# ora facciamo real fuorisede: cioè fuorisede generali - pendolari\n",
    "\n",
    "# Uni con più real fuorisede"
   ]
  },
  {
   "cell_type": "code",
   "execution_count": 32,
   "id": "a51db26d",
   "metadata": {},
   "outputs": [],
   "source": [
    "unis = []\n",
    "rapps = []\n",
    "for uni in df['AteneoNOME'].unique():\n",
    "    n_p = pendolari[pendolari['AteneoNOME']==uni]['Isc'].sum() #numero pendolari\n",
    "    n_f = fuorisede[fuorisede['AteneoNOME']==uni]['Isc'].sum()\n",
    "    n_t = df[df['AteneoNOME']==uni]['Isc'].sum() #numero totali\n",
    "    real_fuorisede = n_f - n_p\n",
    "    \n",
    "    if real_fuorisede <0:\n",
    "        raise Exception('Qualcosa non va')\n",
    "    r = real_fuorisede/n_t*100\n",
    "    unis.append(uni)\n",
    "    rapps.append(r)"
   ]
  },
  {
   "cell_type": "code",
   "execution_count": 33,
   "id": "4dcb8d19",
   "metadata": {},
   "outputs": [],
   "source": [
    "uni_fuorisede_real = pd.DataFrame({\n",
    "    'Unis':unis,\n",
    "    'real_fuorisede/totale':rapps,\n",
    "}).sort_values(by='real_fuorisede/totale',ascending=False)"
   ]
  },
  {
   "cell_type": "code",
   "execution_count": 22,
   "id": "5fbe51c4",
   "metadata": {},
   "outputs": [
    {
     "data": {
      "text/html": [
       "<div>\n",
       "<style scoped>\n",
       "    .dataframe tbody tr th:only-of-type {\n",
       "        vertical-align: middle;\n",
       "    }\n",
       "\n",
       "    .dataframe tbody tr th {\n",
       "        vertical-align: top;\n",
       "    }\n",
       "\n",
       "    .dataframe thead th {\n",
       "        text-align: right;\n",
       "    }\n",
       "</style>\n",
       "<table border=\"1\" class=\"dataframe\">\n",
       "  <thead>\n",
       "    <tr style=\"text-align: right;\">\n",
       "      <th></th>\n",
       "      <th>Unis</th>\n",
       "      <th>real_fuorisede/totale</th>\n",
       "    </tr>\n",
       "  </thead>\n",
       "  <tbody>\n",
       "    <tr>\n",
       "      <th>80</th>\n",
       "      <td>Bra Scienze Gastronomiche</td>\n",
       "      <td>87.704918</td>\n",
       "    </tr>\n",
       "    <tr>\n",
       "      <th>28</th>\n",
       "      <td>Milano Bocconi</td>\n",
       "      <td>84.336177</td>\n",
       "    </tr>\n",
       "    <tr>\n",
       "      <th>67</th>\n",
       "      <td>Venezia Iuav</td>\n",
       "      <td>83.107769</td>\n",
       "    </tr>\n",
       "    <tr>\n",
       "      <th>77</th>\n",
       "      <td>Siena Stranieri</td>\n",
       "      <td>81.858164</td>\n",
       "    </tr>\n",
       "    <tr>\n",
       "      <th>55</th>\n",
       "      <td>Ferrara</td>\n",
       "      <td>80.064565</td>\n",
       "    </tr>\n",
       "    <tr>\n",
       "      <th>...</th>\n",
       "      <td>...</td>\n",
       "      <td>...</td>\n",
       "    </tr>\n",
       "    <tr>\n",
       "      <th>14</th>\n",
       "      <td>Brescia</td>\n",
       "      <td>23.460671</td>\n",
       "    </tr>\n",
       "    <tr>\n",
       "      <th>12</th>\n",
       "      <td>Roma Tre</td>\n",
       "      <td>23.178526</td>\n",
       "    </tr>\n",
       "    <tr>\n",
       "      <th>56</th>\n",
       "      <td>Reggio Calabria</td>\n",
       "      <td>19.535284</td>\n",
       "    </tr>\n",
       "    <tr>\n",
       "      <th>7</th>\n",
       "      <td>Napoli Parthenope</td>\n",
       "      <td>17.294128</td>\n",
       "    </tr>\n",
       "    <tr>\n",
       "      <th>76</th>\n",
       "      <td>Reggio Calabria - Dante Alighieri</td>\n",
       "      <td>15.659955</td>\n",
       "    </tr>\n",
       "  </tbody>\n",
       "</table>\n",
       "<p>81 rows × 2 columns</p>\n",
       "</div>"
      ],
      "text/plain": [
       "                                 Unis  real_fuorisede/totale\n",
       "80          Bra Scienze Gastronomiche              87.704918\n",
       "28                     Milano Bocconi              84.336177\n",
       "67                       Venezia Iuav              83.107769\n",
       "77                    Siena Stranieri              81.858164\n",
       "55                            Ferrara              80.064565\n",
       "..                                ...                    ...\n",
       "14                            Brescia              23.460671\n",
       "12                           Roma Tre              23.178526\n",
       "56                    Reggio Calabria              19.535284\n",
       "7                   Napoli Parthenope              17.294128\n",
       "76  Reggio Calabria - Dante Alighieri              15.659955\n",
       "\n",
       "[81 rows x 2 columns]"
      ]
     },
     "execution_count": 22,
     "metadata": {},
     "output_type": "execute_result"
    }
   ],
   "source": [
    "uni_fuorisede"
   ]
  },
  {
   "cell_type": "code",
   "execution_count": 16,
   "id": "0fb08784",
   "metadata": {
    "scrolled": false
   },
   "outputs": [],
   "source": [
    "uni_fuorisede.to_csv('real_fuorisede_per_uni.csv',index=False)"
   ]
  },
  {
   "cell_type": "markdown",
   "id": "c4bd7a38",
   "metadata": {},
   "source": [
    "# Province con più real fuorisede"
   ]
  },
  {
   "cell_type": "code",
   "execution_count": 100,
   "id": "e13cca45",
   "metadata": {
    "scrolled": true
   },
   "outputs": [
    {
     "name": "stderr",
     "output_type": "stream",
     "text": [
      "/Users/sava/opt/anaconda3/envs/pythonforjournalists/lib/python3.7/site-packages/ipykernel_launcher.py:14: RuntimeWarning: invalid value encountered in long_scalars\n",
      "  \n"
     ]
    }
   ],
   "source": [
    "provs = []\n",
    "rapps = []\n",
    "for prov in df['ResidenzaR'].unique(): #mettiamo come elenco unique sempre province di residenza \n",
    "                                        #perché più completo\n",
    "    n_pendolari = pendolari[pendolari['sede_ateneo']==prov]['Isc'].sum()\n",
    "    n_fuorisede = fuorisede[fuorisede['sede_ateneo']==prov]['Isc'].sum()\n",
    "    real_fuorisede = n_fuorisede-n_pendolari\n",
    "    \n",
    "    if real_fuorisede < 0:\n",
    "        raise Exception('Qualcosa non va')\n",
    "        \n",
    "    n_tot = df[df['sede_ateneo']==prov]['Isc'].sum()\n",
    "    #if n_tot > 1000:\n",
    "    r = real_fuorisede/n_tot*100\n",
    "    provs.append(prov)\n",
    "    rapps.append(r)"
   ]
  },
  {
   "cell_type": "code",
   "execution_count": 101,
   "id": "eba84077",
   "metadata": {},
   "outputs": [],
   "source": [
    "arrivi_real = pd.DataFrame({\n",
    "    'province':provs,\n",
    "    'real_fuorisede/totale':rapps\n",
    "}).sort_values(by='real_fuorisede/totale',ascending=False).fillna(0)\n",
    "\n",
    "arrivi_real['cod'] = arrivi_real['province'].apply(lambda x: prov_cod[x])\n",
    "arrivi_real.to_csv('province_accolgono_real_fuorisede.csv',index=False)"
   ]
  },
  {
   "cell_type": "markdown",
   "id": "37745872",
   "metadata": {},
   "source": [
    "<h1> Ora real fuorisede ma partenze! </h1>"
   ]
  },
  {
   "cell_type": "code",
   "execution_count": 30,
   "id": "1b7aff39",
   "metadata": {},
   "outputs": [],
   "source": [
    "provs = []\n",
    "rapps = []\n",
    "for prov in df['ResidenzaR'].unique():\n",
    "    n_pendolari = pendolari[pendolari['ResidenzaR']==prov]['Isc'].sum()\n",
    "    n_fuorisede = fuorisede[fuorisede['ResidenzaR']==prov]['Isc'].sum()\n",
    "    real_fuorisede = n_fuorisede-n_pendolari\n",
    "    \n",
    "    if real_fuorisede < 0:\n",
    "        raise Exception('Qualcosa non va')\n",
    "    n_tot = df[df['ResidenzaR']==prov]['Isc'].sum()\n",
    "    if n_tot > 1000:\n",
    "        r = real_fuorisede/n_tot*100\n",
    "        provs.append(prov)\n",
    "        rapps.append(r)"
   ]
  },
  {
   "cell_type": "code",
   "execution_count": 31,
   "id": "ed2c335d",
   "metadata": {},
   "outputs": [],
   "source": [
    "partenze_real = pd.DataFrame({\n",
    "    'province':provs,\n",
    "    'real_fuorisede/totale':rapps\n",
    "}).sort_values(by='real_fuorisede/totale',ascending=False)\n",
    "\n",
    "partenze_real['cod'] = partenze_real['province'].apply(lambda x: prov_cod[str(x)])\n",
    "\n",
    "partenze_real.to_csv('province_partono_real_fuorisede.csv',index=False)"
   ]
  },
  {
   "cell_type": "markdown",
   "id": "a6c77dc2",
   "metadata": {},
   "source": [
    "# Province con più fuorisede (non real)"
   ]
  },
  {
   "cell_type": "code",
   "execution_count": 105,
   "id": "f8734916",
   "metadata": {
    "scrolled": true
   },
   "outputs": [
    {
     "name": "stderr",
     "output_type": "stream",
     "text": [
      "/Users/sava/opt/anaconda3/envs/pythonforjournalists/lib/python3.7/site-packages/ipykernel_launcher.py:14: RuntimeWarning: invalid value encountered in long_scalars\n",
      "  \n"
     ]
    }
   ],
   "source": [
    "provs = []\n",
    "rapps = []\n",
    "for prov in df['ResidenzaR'].unique(): #mettiamo come elenco unique sempre province di residenza \n",
    "                                        #perché più completo\n",
    "    #n_pendolari = pendolari[pendolari['sede_ateneo']==prov]['Isc'].sum()\n",
    "    n_fuorisede = fuorisede[fuorisede['sede_ateneo']==prov]['Isc'].sum()\n",
    "    real_fuorisede = n_fuorisede #-n_pendolari\n",
    "    \n",
    "    if real_fuorisede < 0:\n",
    "        raise Exception('Qualcosa non va')\n",
    "        \n",
    "    n_tot = df[df['sede_ateneo']==prov]['Isc'].sum()\n",
    "    #if n_tot > 1000:\n",
    "    r = real_fuorisede/n_tot*100\n",
    "    provs.append(prov)\n",
    "    rapps.append(r)"
   ]
  },
  {
   "cell_type": "code",
   "execution_count": 106,
   "id": "88bfe7f8",
   "metadata": {},
   "outputs": [],
   "source": [
    "arrivi = pd.DataFrame({\n",
    "    'province':provs,\n",
    "    'fuorisede/totale':rapps\n",
    "}).sort_values(by='fuorisede/totale',ascending=False).fillna(0)\n",
    "\n",
    "arrivi['cod'] = arrivi['province'].apply(lambda x: prov_cod[x])\n",
    "arrivi.to_csv('province_accolgono_più_fuorisede.csv',index=False)"
   ]
  },
  {
   "cell_type": "markdown",
   "id": "dd585b52",
   "metadata": {},
   "source": [
    "# Province da cui partono più fuorisede (non real)"
   ]
  },
  {
   "cell_type": "code",
   "execution_count": 107,
   "id": "428ce67c",
   "metadata": {},
   "outputs": [],
   "source": [
    "provs = []\n",
    "rapps = []\n",
    "for prov in df['ResidenzaR'].unique():\n",
    "    #n_pendolari = pendolari[pendolari['ResidenzaR']==prov]['Isc'].sum()\n",
    "    n_fuorisede = fuorisede[fuorisede['ResidenzaR']==prov]['Isc'].sum()\n",
    "    real_fuorisede = n_fuorisede #-n_pendolari\n",
    "    \n",
    "    if real_fuorisede < 0:\n",
    "        raise Exception('Qualcosa non va')\n",
    "    n_tot = df[df['ResidenzaR']==prov]['Isc'].sum()\n",
    "    if n_tot > 1000:\n",
    "        r = real_fuorisede/n_tot*100\n",
    "        provs.append(prov)\n",
    "        rapps.append(r)"
   ]
  },
  {
   "cell_type": "code",
   "execution_count": 108,
   "id": "a945c328",
   "metadata": {},
   "outputs": [],
   "source": [
    "partenze = pd.DataFrame({\n",
    "    'province':provs,\n",
    "    'fuorisede/totale':rapps\n",
    "}).sort_values(by='fuorisede/totale',ascending=False)\n",
    "\n",
    "partenze['cod'] = partenze['province'].apply(lambda x: prov_cod[str(x)])\n",
    "\n",
    "partenze.to_csv('province_partono_di_più.csv',index=False)"
   ]
  },
  {
   "cell_type": "markdown",
   "id": "313ae1a0",
   "metadata": {},
   "source": [
    "# merging arrivi"
   ]
  },
  {
   "cell_type": "code",
   "execution_count": 116,
   "id": "0570df1d",
   "metadata": {},
   "outputs": [],
   "source": [
    "arrivi.merge(arrivi_real, on='cod').drop(columns='province_y').to_csv('arrivi_final.csv',index=False)"
   ]
  },
  {
   "cell_type": "markdown",
   "id": "d4e8ccab",
   "metadata": {},
   "source": [
    "# merging partenze"
   ]
  },
  {
   "cell_type": "code",
   "execution_count": 117,
   "id": "22b52831",
   "metadata": {},
   "outputs": [],
   "source": [
    "partenze.merge(partenze_real, on='cod').drop(columns='province_y').to_csv('partenze_final.csv',index=False)"
   ]
  },
  {
   "cell_type": "markdown",
   "id": "676d7373",
   "metadata": {},
   "source": [
    "# temporary"
   ]
  },
  {
   "cell_type": "code",
   "execution_count": 38,
   "id": "eeac1bd9",
   "metadata": {},
   "outputs": [],
   "source": [
    "unis_semidef = uni_fuorisede.merge(uni_fuorisede_real, on='Unis', how='outer')"
   ]
  },
  {
   "cell_type": "code",
   "execution_count": 49,
   "id": "aff87591",
   "metadata": {},
   "outputs": [],
   "source": [
    "unis_semidef['province limitrofe'] = unis_semidef['fuorisede/totale']-unis_semidef['real_fuorisede/totale']"
   ]
  },
  {
   "cell_type": "code",
   "execution_count": 51,
   "id": "c52c1f6d",
   "metadata": {},
   "outputs": [],
   "source": [
    "unis_semidef.to_csv('uni_fuorisede_final.csv',index=False)"
   ]
  },
  {
   "cell_type": "code",
   "execution_count": null,
   "id": "0e18c757",
   "metadata": {},
   "outputs": [],
   "source": []
  }
 ],
 "metadata": {
  "kernelspec": {
   "display_name": "Python 3",
   "language": "python",
   "name": "python3"
  },
  "language_info": {
   "codemirror_mode": {
    "name": "ipython",
    "version": 3
   },
   "file_extension": ".py",
   "mimetype": "text/x-python",
   "name": "python",
   "nbconvert_exporter": "python",
   "pygments_lexer": "ipython3",
   "version": "3.7.13"
  }
 },
 "nbformat": 4,
 "nbformat_minor": 5
}
