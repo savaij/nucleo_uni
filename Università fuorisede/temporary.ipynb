{
 "cells": [
  {
   "cell_type": "code",
   "execution_count": 1,
   "id": "08743871",
   "metadata": {},
   "outputs": [],
   "source": [
    "import pandas as pd"
   ]
  },
  {
   "cell_type": "code",
   "execution_count": 50,
   "id": "5380b97f",
   "metadata": {},
   "outputs": [],
   "source": [
    "import json\n",
    "import math"
   ]
  },
  {
   "cell_type": "code",
   "execution_count": 3,
   "id": "5ba2dbcb",
   "metadata": {},
   "outputs": [],
   "source": [
    "df = pd.read_csv('/Users/sava/Desktop/task/Nucleo uni/Università fuorisede/residenze_per_fuorisede.csv')"
   ]
  },
  {
   "cell_type": "code",
   "execution_count": 4,
   "id": "d4363bd3",
   "metadata": {},
   "outputs": [],
   "source": [
    "df = df.rename(columns={'Unnamed: 0':'Anno'})"
   ]
  },
  {
   "cell_type": "code",
   "execution_count": 5,
   "id": "6bda287c",
   "metadata": {},
   "outputs": [],
   "source": [
    "df = df.set_index('Anno')"
   ]
  },
  {
   "cell_type": "code",
   "execution_count": 10,
   "id": "c68a037f",
   "metadata": {},
   "outputs": [],
   "source": [
    "def rapporto(serie):\n",
    "    n_i = json.loads(serie.replace(\"\\'\",'\\\"').replace('nan','\\\"nan\\\"'))\n",
    "    return n_i"
   ]
  },
  {
   "cell_type": "code",
   "execution_count": 12,
   "id": "0d10cd4d",
   "metadata": {
    "scrolled": true
   },
   "outputs": [],
   "source": [
    "for c in df.columns:\n",
    "    df[c]= df[c].apply(rapporto)"
   ]
  },
  {
   "cell_type": "code",
   "execution_count": 45,
   "id": "5b47f7ff",
   "metadata": {},
   "outputs": [],
   "source": [
    "def aum_dim(aumento):\n",
    "    if aumento>0:\n",
    "        return 'aumentate'\n",
    "    else: \n",
    "        return 'diminuite'\n",
    "\n",
    "def concordanza(aumento_posti,aumento_fuorisede):\n",
    "    if aumento_posti * aumento_fuorisede > 0:\n",
    "        return f'del {aumento_fuorisede}'\n",
    "    else:\n",
    "        return f'sono {\"aumentati\" if aumento_fuorisede>0 else \"diminuiti\"} del {aumento_fuorisede}'"
   ]
  },
  {
   "cell_type": "code",
   "execution_count": 58,
   "id": "f7aa39ba",
   "metadata": {},
   "outputs": [],
   "source": [
    "diz = {}\n",
    "for c in df.columns:\n",
    "    aumento_fuorisede = (df[c][2021]['fuorisede']/df[c][2014]['fuorisede']*100)-100\n",
    "    aumento_fuorisede = round(aumento_fuorisede,1)\n",
    "    if (df[c][2014]['posti']>0 and df[c][2021]['posti']>0):\n",
    "        aumento_posti = (df[c][2021]['posti']/df[c][2014]['posti']*100)-100\n",
    "        aumento_posti = round(aumento_posti,1)\n",
    "        frase = f'Dal 2014 al 2021 le residenze universitarie sono {\"aumentate\" if aumento_posti>0 else \"diminuite\"} del {aumento_posti}%. Gli studenti fuorisede {concordanza(aumento_posti,aumento_fuorisede)}%.'\n",
    "    else: \n",
    "        frase = f'Dal 2014 al 2021 gli studenti fuorisede sono aumentati del {aumento_fuorisede}. Non ci sono posti in residenze universitarie'\n",
    "    diz[c] = frase"
   ]
  },
  {
   "cell_type": "code",
   "execution_count": 59,
   "id": "75e6229d",
   "metadata": {},
   "outputs": [
    {
     "data": {
      "text/plain": [
       "{'Calabria': 'Dal 2014 al 2021 le residenze universitarie sono aumentate del 13.9%. Gli studenti fuorisede del 2.1%.',\n",
       " 'Sicilia': 'Dal 2014 al 2021 le residenze universitarie sono diminuite del -6.6%. Gli studenti fuorisede del -5.0%.',\n",
       " 'Veneto': 'Dal 2014 al 2021 le residenze universitarie sono aumentate del 5.9%. Gli studenti fuorisede del 46.6%.',\n",
       " 'Friuli-Venezia Giulia': 'Dal 2014 al 2021 le residenze universitarie sono diminuite del -0.9%. Gli studenti fuorisede sono aumentati del 10.1%.',\n",
       " 'Molise': 'Dal 2014 al 2021 gli studenti fuorisede sono aumentati del 10.2. Non ci sono posti in residenze universitarie',\n",
       " 'Abruzzo': 'Dal 2014 al 2021 le residenze universitarie sono diminuite del -15.6%. Gli studenti fuorisede del -25.0%.',\n",
       " 'Piemonte': 'Dal 2014 al 2021 le residenze universitarie sono aumentate del 0.5%. Gli studenti fuorisede del 52.7%.',\n",
       " 'Lombardia': 'Dal 2014 al 2021 le residenze universitarie sono aumentate del 15.2%. Gli studenti fuorisede del 31.7%.',\n",
       " 'Lazio': 'Dal 2014 al 2021 le residenze universitarie sono aumentate del 0.4%. Gli studenti fuorisede del 8.3%.',\n",
       " 'Campania': 'Dal 2014 al 2021 le residenze universitarie sono aumentate del 89.2%. Gli studenti fuorisede del 20.5%.',\n",
       " 'Basilicata': 'Dal 2014 al 2021 le residenze universitarie sono diminuite del -41.6%. Gli studenti fuorisede del -37.6%.',\n",
       " 'Liguria': 'Dal 2014 al 2021 le residenze universitarie sono aumentate del 9.0%. Gli studenti fuorisede del 17.8%.',\n",
       " 'Umbria': 'Dal 2014 al 2021 le residenze universitarie sono diminuite del -25.6%. Gli studenti fuorisede sono aumentati del 38.6%.',\n",
       " \"Valle d'Aosta\": 'Dal 2014 al 2021 gli studenti fuorisede sono aumentati del 78.7. Non ci sono posti in residenze universitarie',\n",
       " 'Toscana': 'Dal 2014 al 2021 le residenze universitarie sono diminuite del -6.0%. Gli studenti fuorisede sono aumentati del 4.2%.',\n",
       " 'Marche': 'Dal 2014 al 2021 le residenze universitarie sono diminuite del -4.0%. Gli studenti fuorisede del -5.1%.',\n",
       " 'Emilia-Romagna': 'Dal 2014 al 2021 le residenze universitarie sono aumentate del 1.7%. Gli studenti fuorisede del 46.8%.',\n",
       " 'Puglia': 'Dal 2014 al 2021 le residenze universitarie sono aumentate del 22.7%. Gli studenti fuorisede del 9.1%.',\n",
       " 'Sardegna': 'Dal 2014 al 2021 le residenze universitarie sono diminuite del -32.1%. Gli studenti fuorisede del -1.0%.'}"
      ]
     },
     "execution_count": 59,
     "metadata": {},
     "output_type": "execute_result"
    }
   ],
   "source": [
    "diz"
   ]
  },
  {
   "cell_type": "code",
   "execution_count": null,
   "id": "074c60b8",
   "metadata": {},
   "outputs": [],
   "source": []
  }
 ],
 "metadata": {
  "kernelspec": {
   "display_name": "Python 3",
   "language": "python",
   "name": "python3"
  },
  "language_info": {
   "codemirror_mode": {
    "name": "ipython",
    "version": 3
   },
   "file_extension": ".py",
   "mimetype": "text/x-python",
   "name": "python",
   "nbconvert_exporter": "python",
   "pygments_lexer": "ipython3",
   "version": "3.7.13"
  }
 },
 "nbformat": 4,
 "nbformat_minor": 5
}
