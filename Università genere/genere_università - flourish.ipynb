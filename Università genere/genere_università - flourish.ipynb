{
 "cells": [
  {
   "cell_type": "code",
   "execution_count": 1,
   "id": "f0d32f61",
   "metadata": {},
   "outputs": [],
   "source": [
    "import pandas as pd\n",
    "import os\n",
    "import re\n",
    "import matplotlib.pyplot as plt\n",
    "import numpy as np"
   ]
  },
  {
   "cell_type": "code",
   "execution_count": 2,
   "id": "d9af43d2",
   "metadata": {},
   "outputs": [],
   "source": [
    "links = ['http://dati.ustat.miur.it/dataset/a60a221d-1c0d-4abb-bc8b-2199f61c205d/resource/0f69cde4-567f-468b-8bc1-fc861ac26590/download/bdg_serie_iscritti.csv',\n",
    "        'http://dati.ustat.miur.it/dataset/a60a221d-1c0d-4abb-bc8b-2199f61c205d/resource/3098c012-08de-4085-b532-66c00e72a6cf/download/bdg_serie_laureati.csv',\n",
    "        'http://dati.ustat.miur.it/dataset/a60a221d-1c0d-4abb-bc8b-2199f61c205d/resource/74fc14c9-571f-4181-888e-ef17e014793e/download/bdg_serie_dottorandi.csv',\n",
    "        'http://dati.ustat.miur.it/dataset/a60a221d-1c0d-4abb-bc8b-2199f61c205d/resource/155998a7-c183-4eb3-b8cd-ca4d7db72b64/download/bdg_serie_dottori.csv']"
   ]
  },
  {
   "cell_type": "code",
   "execution_count": 3,
   "id": "d5370b41",
   "metadata": {},
   "outputs": [],
   "source": [
    "def leggi_csv(link):\n",
    "    df = pd.read_csv(link,encoding = \"ISO-8859-1\",sep=';')\n",
    "    df = df.rename(columns={\n",
    "        df.columns[-1]:'Numero'\n",
    "    })\n",
    "    categoria = os.path.split(link)[-1][:-4].split('_')[-1]\n",
    "    df['categoria'] = [categoria]*len(df)\n",
    "    return df"
   ]
  },
  {
   "cell_type": "code",
   "execution_count": 4,
   "id": "622ac17d",
   "metadata": {},
   "outputs": [],
   "source": [
    "dfs = [leggi_csv(x) for x in links]"
   ]
  },
  {
   "cell_type": "code",
   "execution_count": 5,
   "id": "1d4722fd",
   "metadata": {},
   "outputs": [],
   "source": [
    "stud = pd.concat(dfs,join='inner')"
   ]
  },
  {
   "cell_type": "code",
   "execution_count": 6,
   "id": "c8897da5",
   "metadata": {},
   "outputs": [],
   "source": [
    "stud = stud[stud['CorsoTIPO']!='Vecchio Ordinamento'] #leviamo i vecchi ordinamenti"
   ]
  },
  {
   "cell_type": "code",
   "execution_count": 7,
   "id": "efbda960",
   "metadata": {},
   "outputs": [
    {
     "data": {
      "text/plain": [
       "array(['2021/2022', '2020/2021', '2019/2020', '2018/2019', '2017/2018',\n",
       "       '2016/2017', '2015/2016', '2014/2015', '2013/2014', '2012/2013',\n",
       "       2021, 2020, 2019, 2018, 2017, 2016, 2015, 2014, 2013, 2012],\n",
       "      dtype=object)"
      ]
     },
     "execution_count": 7,
     "metadata": {},
     "output_type": "execute_result"
    }
   ],
   "source": [
    "stud['ANNO'].unique() #uniformiamo tutto sull'anno a sinistra in quelli con formato x/x+1"
   ]
  },
  {
   "cell_type": "code",
   "execution_count": 8,
   "id": "9a518b27",
   "metadata": {},
   "outputs": [],
   "source": [
    "diz = dict(zip(stud['ANNO'].unique()[0:10],stud['ANNO'].unique()[10:])) #mappiamo vecchi valori a nuovi"
   ]
  },
  {
   "cell_type": "code",
   "execution_count": 9,
   "id": "64781a62",
   "metadata": {},
   "outputs": [],
   "source": [
    "stud['ANNO'].loc[:] = stud['ANNO'].apply(lambda x: diz.get(x, x)).astype(int)"
   ]
  },
  {
   "cell_type": "code",
   "execution_count": 10,
   "id": "15eef459",
   "metadata": {},
   "outputs": [],
   "source": [
    "prof = pd.read_csv('http://dati.ustat.miur.it/dataset/a60a221d-1c0d-4abb-bc8b-2199f61c205d/resource/92f2008d-958f-4e9c-ae5c-7a3dd418cd57/download/bdg_serie_academic_staff_ambito.csv',encoding = \"ISO-8859-1\", delimiter=';')"
   ]
  },
  {
   "cell_type": "code",
   "execution_count": 11,
   "id": "d5fdf37a",
   "metadata": {},
   "outputs": [
    {
     "data": {
      "text/plain": [
       "Index(['ANNO', 'AteneoCOD', 'AteneoNOME', 'AteneoREGIONE', 'AteneoAREAGEO',\n",
       "       'CorsoTIPO', 'COD_FoET2013', 'DESC_FoET2013', 'Genere', 'Numero',\n",
       "       'categoria'],\n",
       "      dtype='object')"
      ]
     },
     "execution_count": 11,
     "metadata": {},
     "output_type": "execute_result"
    }
   ],
   "source": [
    "stud.columns"
   ]
  },
  {
   "cell_type": "code",
   "execution_count": 12,
   "id": "3d8de3aa",
   "metadata": {},
   "outputs": [],
   "source": [
    "prof = prof.rename(columns={\n",
    "    'CODICE_ATENEO':'AteneoCOD',\n",
    "    'NOME_ATENEO':'AteneoNOME',\n",
    "    'REGIONE':'AteneoREGIONE',\n",
    "    'AREA_GEO': 'AteneoAREAGEO',\n",
    "    'GENERE':'Genere',\n",
    "    'N_AcStaff':'Numero',\n",
    "    'GRADE':'categoria'\n",
    "})"
   ]
  },
  {
   "cell_type": "code",
   "execution_count": 13,
   "id": "377537bc",
   "metadata": {},
   "outputs": [],
   "source": [
    "decod = pd.read_csv('http://dati.ustat.miur.it/dataset/a60a221d-1c0d-4abb-bc8b-2199f61c205d/resource/17b34084-9c01-4e90-9260-982fcb982e6a/download/cod_grade.csv', encoding = \"ISO-8859-1\", delimiter=';')"
   ]
  },
  {
   "cell_type": "code",
   "execution_count": 14,
   "id": "ff3852ac",
   "metadata": {},
   "outputs": [],
   "source": [
    "decod_grade = dict(zip(decod['GRADE'],decod['Qualifica']))"
   ]
  },
  {
   "cell_type": "code",
   "execution_count": 15,
   "id": "1df57368",
   "metadata": {},
   "outputs": [],
   "source": [
    "decod_grade['C'] = 'Ricercatore'"
   ]
  },
  {
   "cell_type": "code",
   "execution_count": 16,
   "id": "3b7ab59d",
   "metadata": {},
   "outputs": [],
   "source": [
    "prof['categoria'] = prof['categoria'].apply(lambda x: decod_grade[x])"
   ]
  },
  {
   "cell_type": "code",
   "execution_count": 17,
   "id": "9f161658",
   "metadata": {},
   "outputs": [],
   "source": [
    "#troviamo per materie prof, se è stem o no!\n",
    "materie_prof = pd.read_csv('http://dati.ustat.miur.it/dataset/a60a221d-1c0d-4abb-bc8b-2199f61c205d/resource/688a0ad5-a4f7-469d-af3d-f7448aa5ae30/download/cod_ford.csv',encoding = \"ISO-8859-1\", delimiter=';')\n",
    "decoder_prof = dict(zip(materie_prof['FoRD'],materie_prof['Area STEM']))"
   ]
  },
  {
   "cell_type": "code",
   "execution_count": 18,
   "id": "bcd63fa3",
   "metadata": {},
   "outputs": [],
   "source": [
    "prof['STEM'] = prof['FoRD'].apply(lambda x: decoder_prof[x])"
   ]
  },
  {
   "cell_type": "code",
   "execution_count": 19,
   "id": "1b2329b2",
   "metadata": {},
   "outputs": [],
   "source": [
    "#ora stessa cosa per stud\n",
    "materie_stud = pd.read_csv('http://dati.ustat.miur.it/dataset/a60a221d-1c0d-4abb-bc8b-2199f61c205d/resource/3f52db2f-24ce-4605-8e51-5618cc4ff4e3/download/cod_foet2013.csv',encoding = \"ISO-8859-1\", delimiter=';')\n",
    "decoder_stud = dict(zip(materie_stud['ISCED_F_1dgt'],materie_stud['Area STEM']))"
   ]
  },
  {
   "cell_type": "code",
   "execution_count": 20,
   "id": "2194d32e",
   "metadata": {
    "scrolled": true
   },
   "outputs": [
    {
     "data": {
      "text/html": [
       "<div>\n",
       "<style scoped>\n",
       "    .dataframe tbody tr th:only-of-type {\n",
       "        vertical-align: middle;\n",
       "    }\n",
       "\n",
       "    .dataframe tbody tr th {\n",
       "        vertical-align: top;\n",
       "    }\n",
       "\n",
       "    .dataframe thead th {\n",
       "        text-align: right;\n",
       "    }\n",
       "</style>\n",
       "<table border=\"1\" class=\"dataframe\">\n",
       "  <thead>\n",
       "    <tr style=\"text-align: right;\">\n",
       "      <th></th>\n",
       "      <th>ANNO</th>\n",
       "      <th>AteneoCOD</th>\n",
       "      <th>AteneoNOME</th>\n",
       "      <th>AteneoREGIONE</th>\n",
       "      <th>AteneoAREAGEO</th>\n",
       "      <th>CorsoTIPO</th>\n",
       "      <th>COD_FoET2013</th>\n",
       "      <th>DESC_FoET2013</th>\n",
       "      <th>Genere</th>\n",
       "      <th>Numero</th>\n",
       "      <th>categoria</th>\n",
       "    </tr>\n",
       "  </thead>\n",
       "  <tbody>\n",
       "    <tr>\n",
       "      <th>14210</th>\n",
       "      <td>2017</td>\n",
       "      <td>05802</td>\n",
       "      <td>Roma - Università degli studi di \"Tor Vergata\"</td>\n",
       "      <td>Lazio</td>\n",
       "      <td>CENTRO</td>\n",
       "      <td>Laurea Magistrale</td>\n",
       "      <td>7</td>\n",
       "      <td>Engineering, manufacturing and construction</td>\n",
       "      <td>M</td>\n",
       "      <td>734</td>\n",
       "      <td>iscritti</td>\n",
       "    </tr>\n",
       "  </tbody>\n",
       "</table>\n",
       "</div>"
      ],
      "text/plain": [
       "       ANNO AteneoCOD                                      AteneoNOME  \\\n",
       "14210  2017     05802  Roma - Università degli studi di \"Tor Vergata\"   \n",
       "\n",
       "      AteneoREGIONE AteneoAREAGEO          CorsoTIPO  COD_FoET2013  \\\n",
       "14210         Lazio        CENTRO  Laurea Magistrale             7   \n",
       "\n",
       "                                     DESC_FoET2013 Genere  Numero categoria  \n",
       "14210  Engineering, manufacturing and construction      M     734  iscritti  "
      ]
     },
     "execution_count": 20,
     "metadata": {},
     "output_type": "execute_result"
    }
   ],
   "source": [
    "stud.sample()"
   ]
  },
  {
   "cell_type": "code",
   "execution_count": 21,
   "id": "105100a3",
   "metadata": {},
   "outputs": [],
   "source": [
    "stud['STEM'] = stud['COD_FoET2013'].apply(lambda x: decoder_stud[x])"
   ]
  },
  {
   "cell_type": "code",
   "execution_count": 22,
   "id": "741ed95c",
   "metadata": {},
   "outputs": [],
   "source": [
    "df = pd.concat([stud,prof],join='inner') #adesso sappiamo se sono STEM o no!"
   ]
  },
  {
   "cell_type": "code",
   "execution_count": 23,
   "id": "25191792",
   "metadata": {},
   "outputs": [],
   "source": [
    "df['STEM'] = df['STEM'].replace('No',False).replace('Sì',True).astype(bool) #trasformiamo in booleani"
   ]
  },
  {
   "cell_type": "code",
   "execution_count": 24,
   "id": "92e31b68",
   "metadata": {},
   "outputs": [],
   "source": [
    "def conto(df, verbose=False, relative=False, flourish=False): \n",
    "    '''\n",
    "    \n",
    "    \n",
    "    \n",
    "    big funzione che serve a fare i conti\n",
    "    \n",
    "    \n",
    "    '''\n",
    "    \n",
    "    df = df.groupby(['categoria','Genere']).agg({\n",
    "        'Numero':pd.Series.sum\n",
    "    }).reset_index()\n",
    "    \n",
    "    diz = {\n",
    "            'iscritti':0,\n",
    "            'laureati':1,\n",
    "            'dottorandi':2,\n",
    "            'dottori':3,\n",
    "            'Assegnista di Ricerca':4,\n",
    "            'Ricercatore':5,\n",
    "            'Prof. Associato':6,\n",
    "            'Prof. Ordinario':7\n",
    "        }\n",
    "    \n",
    "    def ordina(colonna): #funzione di supporto solo per averli in ordine \n",
    "        colonna = colonna.apply(lambda x:diz[x])\n",
    "        return colonna\n",
    "    \n",
    "    df = df.sort_values(by=['categoria'],key=ordina)\n",
    "    \n",
    "    if flourish:\n",
    "        return df\n",
    "    \n",
    "    M= []\n",
    "    F=[]\n",
    "    colons = []\n",
    "\n",
    "    for cat in diz:\n",
    "        try:\n",
    "            M.append(df[(df['categoria']==cat)&(df['Genere']=='M')]['Numero'].iloc[0])\n",
    "        except IndexError as e:\n",
    "            if verbose:\n",
    "                print(f'M - {cat} ---> {e}')\n",
    "            M.append(0)\n",
    "        \n",
    "        try:\n",
    "            F.append(df[(df['categoria']==cat)&(df['Genere']=='F')]['Numero'].iloc[0])\n",
    "            \n",
    "        except IndexError as e:\n",
    "            if verbose:\n",
    "                print(f'F - {cat} ---> {e}')\n",
    "            F.append(0)\n",
    "            \n",
    "        colons.append(cat)\n",
    "    \n",
    "    ndf = pd.DataFrame([M,F],columns=colons,index=['M','F'])\n",
    "    if relative:\n",
    "        ndf = ndf.apply(lambda x: x/x.sum()*100)\n",
    "        \n",
    "    return ndf\n",
    "\n",
    "pd.DataFrame.conto = conto"
   ]
  },
  {
   "cell_type": "code",
   "execution_count": 25,
   "id": "92869681",
   "metadata": {},
   "outputs": [],
   "source": [
    "def filtro(df, nome, stem=None, anno=2021): \n",
    "    '''\n",
    "    \n",
    "    funzione per filtrare per università, STEM (False,True,None), anno\n",
    "    \n",
    "    \n",
    "    '''\n",
    "    \n",
    "    if stem is not None:\n",
    "        df = df[df['STEM']==stem]\n",
    "        \n",
    "    return df[(df['AteneoNOME']==nome)&(df['ANNO']==anno)]\n",
    "pd.DataFrame.filtro = filtro"
   ]
  },
  {
   "cell_type": "code",
   "execution_count": 26,
   "id": "6b154f7c",
   "metadata": {},
   "outputs": [],
   "source": [
    "diz = {\n",
    "            'iscritti':0,\n",
    "            'laureati':1,\n",
    "            'dottorandi':2,\n",
    "            'dottori':3,\n",
    "            'Assegnista di Ricerca':4,\n",
    "            'Ricercatore':5,\n",
    "            'Prof. Associato':6,\n",
    "            'Prof. Ordinario':7\n",
    "        }\n",
    "    \n",
    "def ordina(colonna, reverse=False): #funzione di supporto solo per averli in ordine \n",
    "        if reverse:\n",
    "            colonna = colonna.apply(lambda x:(diz[x]*-1))\n",
    "        else:\n",
    "            colonna = colonna.apply(lambda x:diz[x])\n",
    "        return colonna"
   ]
  },
  {
   "cell_type": "code",
   "execution_count": 27,
   "id": "bcadbfb7",
   "metadata": {},
   "outputs": [],
   "source": [
    "M = []\n",
    "F = []\n",
    "CAT = []\n",
    "ndf = df.filtro('TOTALE ATENEI').groupby(['categoria','Genere']).agg({\n",
    "        'Numero':pd.Series.sum\n",
    "    })"
   ]
  },
  {
   "cell_type": "code",
   "execution_count": 28,
   "id": "1721a771",
   "metadata": {},
   "outputs": [],
   "source": [
    "lista_df = []\n",
    "\n",
    "for università in df['AteneoNOME'].unique():\n",
    "\n",
    "    M = []\n",
    "    F = []\n",
    "    CAT = []\n",
    "    ndf = df.filtro(università).groupby(['categoria','Genere']).agg({\n",
    "            'Numero':pd.Series.sum\n",
    "        })\n",
    "    \n",
    "    if ('iscritti' in ndf.index.get_level_values('categoria')) and (ndf.loc['iscritti'].sum()[0] > 500):\n",
    "    \n",
    "        for cat in df['categoria'].unique():\n",
    "            try:\n",
    "                femmine_ass = ndf.loc[cat,'F'][0]\n",
    "            except KeyError:\n",
    "                femmine_ass = 0\n",
    "\n",
    "            try:\n",
    "                maschi_ass = ndf.loc[cat,'M'][0]\n",
    "            except KeyError:\n",
    "                maschi_ass = 0\n",
    "\n",
    "            tot = femmine_ass+maschi_ass\n",
    "            if tot>0:\n",
    "\n",
    "                femmine = femmine_ass/tot*100\n",
    "                maschi = maschi_ass/tot*100\n",
    "            else: \n",
    "                femmine = 0\n",
    "                maschi = 0\n",
    "\n",
    "            CAT.append(cat) \n",
    "            M.append(maschi)\n",
    "            F.append(femmine)\n",
    "\n",
    "        df_uni = pd.DataFrame({\n",
    "        'cat':CAT,\n",
    "        'F':F,\n",
    "        'M':M,\n",
    "        'uni':[università]*len(M)\n",
    "        }).sort_values(by='cat',key=lambda x: ordina(x,reverse=True))\n",
    "\n",
    "        lista_df.append(df_uni)"
   ]
  },
  {
   "cell_type": "code",
   "execution_count": 29,
   "id": "cf7fd6bd",
   "metadata": {},
   "outputs": [],
   "source": [
    "nn = pd.concat(lista_df)"
   ]
  },
  {
   "cell_type": "code",
   "execution_count": null,
   "id": "2179eb78",
   "metadata": {},
   "outputs": [],
   "source": []
  },
  {
   "cell_type": "code",
   "execution_count": 286,
   "id": "b558e965",
   "metadata": {},
   "outputs": [],
   "source": [
    "nn['F'] = nn['F'].apply(lambda x: x*(-1))"
   ]
  },
  {
   "cell_type": "code",
   "execution_count": 287,
   "id": "bd13dab3",
   "metadata": {},
   "outputs": [],
   "source": [
    "diz_cat = {'Assegnista di Ricerca':'Assegnisti/e di Ricerca',\n",
    "          'Prof. Associato':'Prof. Associati/e',\n",
    "          'Prof. Ordinario':'Prof. Ordinari/e',\n",
    "          'Ricercatore':'Ricercatori/Ricercatrici',\n",
    "          'dottorandi':'Dottorandi/e',\n",
    "           'dottori':'Dottori/Dottoresse',\n",
    "          'iscritti':'Iscritti/e',\n",
    "          'laureati':'Laureati/e'}"
   ]
  },
  {
   "cell_type": "code",
   "execution_count": 288,
   "id": "0e89ce0c",
   "metadata": {},
   "outputs": [],
   "source": [
    "nn['cat'] = nn['cat'].apply(lambda x: diz_cat[x])"
   ]
  },
  {
   "cell_type": "code",
   "execution_count": 289,
   "id": "79282031",
   "metadata": {},
   "outputs": [],
   "source": [
    "nn.to_csv('/Users/sava/Desktop/task/Nucleo uni/Università genere/dati_flourish_STEM.csv',index=False)"
   ]
  },
  {
   "cell_type": "code",
   "execution_count": null,
   "id": "71effb25",
   "metadata": {},
   "outputs": [],
   "source": []
  }
 ],
 "metadata": {
  "kernelspec": {
   "display_name": "Python 3",
   "language": "python",
   "name": "python3"
  },
  "language_info": {
   "codemirror_mode": {
    "name": "ipython",
    "version": 3
   },
   "file_extension": ".py",
   "mimetype": "text/x-python",
   "name": "python",
   "nbconvert_exporter": "python",
   "pygments_lexer": "ipython3",
   "version": "3.7.13"
  }
 },
 "nbformat": 4,
 "nbformat_minor": 5
}
