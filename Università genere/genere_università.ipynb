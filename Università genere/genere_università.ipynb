{
 "cells": [
  {
   "cell_type": "code",
   "execution_count": 84,
   "id": "ce8a5bdc",
   "metadata": {},
   "outputs": [],
   "source": [
    "import pandas as pd\n",
    "import os\n",
    "import re\n",
    "import matplotlib.pyplot as plt\n",
    "import numpy as np"
   ]
  },
  {
   "cell_type": "code",
   "execution_count": 85,
   "id": "54d56619",
   "metadata": {},
   "outputs": [],
   "source": [
    "links = ['http://dati.ustat.miur.it/dataset/a60a221d-1c0d-4abb-bc8b-2199f61c205d/resource/0f69cde4-567f-468b-8bc1-fc861ac26590/download/bdg_serie_iscritti.csv',\n",
    "        'http://dati.ustat.miur.it/dataset/a60a221d-1c0d-4abb-bc8b-2199f61c205d/resource/3098c012-08de-4085-b532-66c00e72a6cf/download/bdg_serie_laureati.csv',\n",
    "        'http://dati.ustat.miur.it/dataset/a60a221d-1c0d-4abb-bc8b-2199f61c205d/resource/74fc14c9-571f-4181-888e-ef17e014793e/download/bdg_serie_dottorandi.csv',\n",
    "        'http://dati.ustat.miur.it/dataset/a60a221d-1c0d-4abb-bc8b-2199f61c205d/resource/155998a7-c183-4eb3-b8cd-ca4d7db72b64/download/bdg_serie_dottori.csv']"
   ]
  },
  {
   "cell_type": "code",
   "execution_count": 86,
   "id": "1fa0d263",
   "metadata": {},
   "outputs": [],
   "source": [
    "def leggi_csv(link):\n",
    "    df = pd.read_csv(link,encoding = \"ISO-8859-1\",sep=';')\n",
    "    df = df.rename(columns={\n",
    "        df.columns[-1]:'Numero'\n",
    "    })\n",
    "    categoria = os.path.split(link)[-1][:-4].split('_')[-1]\n",
    "    df['categoria'] = [categoria]*len(df)\n",
    "    return df"
   ]
  },
  {
   "cell_type": "code",
   "execution_count": 87,
   "id": "cc9666aa",
   "metadata": {},
   "outputs": [],
   "source": [
    "dfs = [leggi_csv(x) for x in links]"
   ]
  },
  {
   "cell_type": "code",
   "execution_count": 88,
   "id": "17a7b062",
   "metadata": {},
   "outputs": [],
   "source": [
    "stud = pd.concat(dfs,join='inner')"
   ]
  },
  {
   "cell_type": "code",
   "execution_count": 89,
   "id": "70fb3030",
   "metadata": {},
   "outputs": [],
   "source": [
    "stud = stud[stud['CorsoTIPO']!='Vecchio Ordinamento'] #leviamo i vecchi ordinamenti"
   ]
  },
  {
   "cell_type": "code",
   "execution_count": 90,
   "id": "389c260b",
   "metadata": {},
   "outputs": [
    {
     "data": {
      "text/plain": [
       "array(['2021/2022', '2020/2021', '2019/2020', '2018/2019', '2017/2018',\n",
       "       '2016/2017', '2015/2016', '2014/2015', '2013/2014', '2012/2013',\n",
       "       2021, 2020, 2019, 2018, 2017, 2016, 2015, 2014, 2013, 2012],\n",
       "      dtype=object)"
      ]
     },
     "execution_count": 90,
     "metadata": {},
     "output_type": "execute_result"
    }
   ],
   "source": [
    "stud['ANNO'].unique() #uniformiamo tutto sull'anno a sinistra in quelli con formato x/x+1"
   ]
  },
  {
   "cell_type": "code",
   "execution_count": 91,
   "id": "30351b31",
   "metadata": {},
   "outputs": [],
   "source": [
    "diz = dict(zip(stud['ANNO'].unique()[0:10],stud['ANNO'].unique()[10:])) #mappiamo vecchi valori a nuovi"
   ]
  },
  {
   "cell_type": "code",
   "execution_count": 92,
   "id": "ad4bce6b",
   "metadata": {},
   "outputs": [],
   "source": [
    "stud['ANNO'].loc[:] = stud['ANNO'].apply(lambda x: diz.get(x, x)).astype(int)"
   ]
  },
  {
   "cell_type": "code",
   "execution_count": 93,
   "id": "874354af",
   "metadata": {},
   "outputs": [],
   "source": [
    "prof = pd.read_csv('http://dati.ustat.miur.it/dataset/a60a221d-1c0d-4abb-bc8b-2199f61c205d/resource/92f2008d-958f-4e9c-ae5c-7a3dd418cd57/download/bdg_serie_academic_staff_ambito.csv',encoding = \"ISO-8859-1\", delimiter=';')"
   ]
  },
  {
   "cell_type": "code",
   "execution_count": 94,
   "id": "c347f010",
   "metadata": {},
   "outputs": [
    {
     "data": {
      "text/plain": [
       "Index(['ANNO', 'AteneoCOD', 'AteneoNOME', 'AteneoREGIONE', 'AteneoAREAGEO',\n",
       "       'CorsoTIPO', 'COD_FoET2013', 'DESC_FoET2013', 'Genere', 'Numero',\n",
       "       'categoria'],\n",
       "      dtype='object')"
      ]
     },
     "execution_count": 94,
     "metadata": {},
     "output_type": "execute_result"
    }
   ],
   "source": [
    "stud.columns"
   ]
  },
  {
   "cell_type": "code",
   "execution_count": 95,
   "id": "ece24127",
   "metadata": {},
   "outputs": [],
   "source": [
    "prof = prof.rename(columns={\n",
    "    'CODICE_ATENEO':'AteneoCOD',\n",
    "    'NOME_ATENEO':'AteneoNOME',\n",
    "    'REGIONE':'AteneoREGIONE',\n",
    "    'AREA_GEO': 'AteneoAREAGEO',\n",
    "    'GENERE':'Genere',\n",
    "    'N_AcStaff':'Numero',\n",
    "    'GRADE':'categoria'\n",
    "})"
   ]
  },
  {
   "cell_type": "code",
   "execution_count": 96,
   "id": "fa1182a7",
   "metadata": {},
   "outputs": [],
   "source": [
    "decod = pd.read_csv('http://dati.ustat.miur.it/dataset/a60a221d-1c0d-4abb-bc8b-2199f61c205d/resource/17b34084-9c01-4e90-9260-982fcb982e6a/download/cod_grade.csv', encoding = \"ISO-8859-1\", delimiter=';')"
   ]
  },
  {
   "cell_type": "code",
   "execution_count": 97,
   "id": "082892b6",
   "metadata": {},
   "outputs": [],
   "source": [
    "decod_grade = dict(zip(decod['GRADE'],decod['Qualifica']))"
   ]
  },
  {
   "cell_type": "code",
   "execution_count": 98,
   "id": "a388b523",
   "metadata": {},
   "outputs": [],
   "source": [
    "decod_grade['C'] = 'Ricercatore'"
   ]
  },
  {
   "cell_type": "code",
   "execution_count": 99,
   "id": "bfe448d0",
   "metadata": {},
   "outputs": [],
   "source": [
    "prof['categoria'] = prof['categoria'].apply(lambda x: decod_grade[x])"
   ]
  },
  {
   "cell_type": "code",
   "execution_count": 100,
   "id": "642c7939",
   "metadata": {},
   "outputs": [],
   "source": [
    "#troviamo per materie prof, se è stem o no!\n",
    "materie_prof = pd.read_csv('http://dati.ustat.miur.it/dataset/a60a221d-1c0d-4abb-bc8b-2199f61c205d/resource/688a0ad5-a4f7-469d-af3d-f7448aa5ae30/download/cod_ford.csv',encoding = \"ISO-8859-1\", delimiter=';')\n",
    "decoder_prof = dict(zip(materie_prof['FoRD'],materie_prof['Area STEM']))"
   ]
  },
  {
   "cell_type": "code",
   "execution_count": 101,
   "id": "48b23d3e",
   "metadata": {},
   "outputs": [],
   "source": [
    "prof['STEM'] = prof['FoRD'].apply(lambda x: decoder_prof[x])"
   ]
  },
  {
   "cell_type": "code",
   "execution_count": 102,
   "id": "4db9230b",
   "metadata": {},
   "outputs": [],
   "source": [
    "#ora stessa cosa per stud\n",
    "materie_stud = pd.read_csv('http://dati.ustat.miur.it/dataset/a60a221d-1c0d-4abb-bc8b-2199f61c205d/resource/3f52db2f-24ce-4605-8e51-5618cc4ff4e3/download/cod_foet2013.csv',encoding = \"ISO-8859-1\", delimiter=';')\n",
    "decoder_stud = dict(zip(materie_stud['ISCED_F_1dgt'],materie_stud['Area STEM']))"
   ]
  },
  {
   "cell_type": "code",
   "execution_count": 103,
   "id": "841fd2f3",
   "metadata": {
    "scrolled": true
   },
   "outputs": [
    {
     "data": {
      "text/html": [
       "<div>\n",
       "<style scoped>\n",
       "    .dataframe tbody tr th:only-of-type {\n",
       "        vertical-align: middle;\n",
       "    }\n",
       "\n",
       "    .dataframe tbody tr th {\n",
       "        vertical-align: top;\n",
       "    }\n",
       "\n",
       "    .dataframe thead th {\n",
       "        text-align: right;\n",
       "    }\n",
       "</style>\n",
       "<table border=\"1\" class=\"dataframe\">\n",
       "  <thead>\n",
       "    <tr style=\"text-align: right;\">\n",
       "      <th></th>\n",
       "      <th>ANNO</th>\n",
       "      <th>AteneoCOD</th>\n",
       "      <th>AteneoNOME</th>\n",
       "      <th>AteneoREGIONE</th>\n",
       "      <th>AteneoAREAGEO</th>\n",
       "      <th>CorsoTIPO</th>\n",
       "      <th>COD_FoET2013</th>\n",
       "      <th>DESC_FoET2013</th>\n",
       "      <th>Genere</th>\n",
       "      <th>Numero</th>\n",
       "      <th>categoria</th>\n",
       "    </tr>\n",
       "  </thead>\n",
       "  <tbody>\n",
       "    <tr>\n",
       "      <th>31515</th>\n",
       "      <td>2012</td>\n",
       "      <td>01001</td>\n",
       "      <td>Genova - Università degli studi</td>\n",
       "      <td>Liguria</td>\n",
       "      <td>NORD-OVEST</td>\n",
       "      <td>Laurea</td>\n",
       "      <td>4</td>\n",
       "      <td>Business, administration and law</td>\n",
       "      <td>F</td>\n",
       "      <td>1583</td>\n",
       "      <td>iscritti</td>\n",
       "    </tr>\n",
       "  </tbody>\n",
       "</table>\n",
       "</div>"
      ],
      "text/plain": [
       "       ANNO AteneoCOD                       AteneoNOME AteneoREGIONE  \\\n",
       "31515  2012     01001  Genova - Università degli studi       Liguria   \n",
       "\n",
       "      AteneoAREAGEO CorsoTIPO  COD_FoET2013                     DESC_FoET2013  \\\n",
       "31515    NORD-OVEST    Laurea             4  Business, administration and law   \n",
       "\n",
       "      Genere  Numero categoria  \n",
       "31515      F    1583  iscritti  "
      ]
     },
     "execution_count": 103,
     "metadata": {},
     "output_type": "execute_result"
    }
   ],
   "source": [
    "stud.sample()"
   ]
  },
  {
   "cell_type": "code",
   "execution_count": 104,
   "id": "437d4ac4",
   "metadata": {},
   "outputs": [],
   "source": [
    "stud['STEM'] = stud['COD_FoET2013'].apply(lambda x: decoder_stud[x])"
   ]
  },
  {
   "cell_type": "code",
   "execution_count": 105,
   "id": "151d2d7a",
   "metadata": {},
   "outputs": [],
   "source": [
    "df = pd.concat([stud,prof],join='inner') #adesso sappiamo se sono STEM o no!"
   ]
  },
  {
   "cell_type": "code",
   "execution_count": 106,
   "id": "7e4e8be6",
   "metadata": {},
   "outputs": [],
   "source": [
    "df['STEM'] = df['STEM'].replace('No',False).replace('Sì',True).astype(bool) #trasformiamo in booleani"
   ]
  },
  {
   "cell_type": "code",
   "execution_count": 107,
   "id": "76f643b3",
   "metadata": {},
   "outputs": [],
   "source": [
    "def conto(df, verbose=False, relative=False, flourish=False): \n",
    "    '''\n",
    "    \n",
    "    \n",
    "    \n",
    "    big funzione che serve a fare i conti\n",
    "    \n",
    "    \n",
    "    '''\n",
    "    \n",
    "    df = df.groupby(['categoria','Genere']).agg({\n",
    "        'Numero':pd.Series.sum\n",
    "    }).reset_index()\n",
    "    \n",
    "    diz = {\n",
    "            'iscritti':0,\n",
    "            'laureati':1,\n",
    "            'dottorandi':2,\n",
    "            'dottori':3,\n",
    "            'Assegnista di Ricerca':4,\n",
    "            'Ricercatore':5,\n",
    "            'Prof. Associato':6,\n",
    "            'Prof. Ordinario':7\n",
    "        }\n",
    "    \n",
    "    def ordina(colonna): #funzione di supporto solo per averli in ordine \n",
    "        colonna = colonna.apply(lambda x:diz[x])\n",
    "        return colonna\n",
    "    \n",
    "    df = df.sort_values(by=['categoria'],key=ordina)\n",
    "    \n",
    "    if flourish:\n",
    "        return df\n",
    "    \n",
    "    M= []\n",
    "    F=[]\n",
    "    colons = []\n",
    "\n",
    "    for cat in diz:\n",
    "        try:\n",
    "            M.append(df[(df['categoria']==cat)&(df['Genere']=='M')]['Numero'].iloc[0])\n",
    "        except IndexError as e:\n",
    "            if verbose:\n",
    "                print(f'M - {cat} ---> {e}')\n",
    "            M.append(0)\n",
    "        \n",
    "        try:\n",
    "            F.append(df[(df['categoria']==cat)&(df['Genere']=='F')]['Numero'].iloc[0])\n",
    "            \n",
    "        except IndexError as e:\n",
    "            if verbose:\n",
    "                print(f'F - {cat} ---> {e}')\n",
    "            F.append(0)\n",
    "            \n",
    "        colons.append(cat)\n",
    "    \n",
    "    ndf = pd.DataFrame([M,F],columns=colons,index=['M','F'])\n",
    "    if relative:\n",
    "        ndf = ndf.apply(lambda x: x/x.sum()*100)\n",
    "        \n",
    "    return ndf\n",
    "\n",
    "pd.DataFrame.conto = conto"
   ]
  },
  {
   "cell_type": "code",
   "execution_count": 108,
   "id": "23dd8fb6",
   "metadata": {},
   "outputs": [],
   "source": [
    "def filtro(df, nome, stem=None, anno=2021): \n",
    "    '''\n",
    "    \n",
    "    funzione per filtrare per università, STEM (False,True,None), anno\n",
    "    \n",
    "    \n",
    "    '''\n",
    "    \n",
    "    if stem is not None:\n",
    "        df = df[df['STEM']==stem]\n",
    "        \n",
    "    return df[(df['AteneoNOME']==nome)&(df['ANNO']==anno)]\n",
    "pd.DataFrame.filtro = filtro"
   ]
  },
  {
   "cell_type": "code",
   "execution_count": 109,
   "id": "3862a02c",
   "metadata": {},
   "outputs": [],
   "source": [
    "def grafico(df,transpose=True,tit=None, relative=True):\n",
    "    \n",
    "    '''\n",
    "    \n",
    "    funzione per fare il grafichetto\n",
    "    \n",
    "    '''\n",
    "    if relative:\n",
    "        df = df.apply(lambda x: x/x.sum()*100)\n",
    "    \n",
    "    if transpose:\n",
    "        df = df.transpose()\n",
    "    \n",
    "    fig,ax = plt.subplots(figsize=(14,6))\n",
    "    plt.ylim(0,100)\n",
    "    plt.plot(df['M'],'o-', label='maschi')\n",
    "    plt.plot(df['F'],'o-',label='femmine')\n",
    "    plt.legend()\n",
    "    \n",
    "    if tit:\n",
    "        ax.set_title(tit)\n",
    "\n",
    "    for x,y_m,y_f in zip(df.index,df['M'],df['F']):\n",
    "        plt.annotate(f'{round(y_m,1)}%', # this is the text\n",
    "                         (x,y_m), # these are the coordinates to position the label\n",
    "                         textcoords=\"offset points\", # how to position the text\n",
    "                         xytext=(0,8), # distance from text to points (x,y)\n",
    "                         ha='center',\n",
    "                         size=10,\n",
    "                         style='italic')\n",
    "\n",
    "        plt.annotate(f'{round(y_f,1)}%', # this is the text\n",
    "                         (x,y_f), # these are the coordinates to position the label\n",
    "                         textcoords=\"offset points\", # how to position the text\n",
    "                         xytext=(0,-13), # distance from text to points (x,y)\n",
    "                         ha='center',\n",
    "                         size=10,\n",
    "                         style='italic')\n",
    "    return fig\n",
    "\n",
    "pd.DataFrame.grafico = grafico"
   ]
  },
  {
   "cell_type": "code",
   "execution_count": 110,
   "id": "1bee3faa",
   "metadata": {
    "scrolled": false
   },
   "outputs": [],
   "source": [
    "def indice(df, considera_studenti=False):\n",
    "    '''\n",
    "    Glass Ceiling Index definito dall'UE\n",
    "    \n",
    "    1 = donne hanno le stesse chance degli uomini di essere promosse\n",
    "    0 = donne sono più rappresentate al grado massimo rispetto a uomini\n",
    "    >1 = uomini più rappresentati\n",
    "    \n",
    "    ritorna una tupla con: average, top, indice\n",
    "    \n",
    "    '''\n",
    "    rep_tot_femm = df.loc['F'].iloc[0 if considera_studenti else 5:].sum()\n",
    "    rep_tot = rep_tot_femm + df.loc['M'].iloc[0 if considera_studenti else 5:].sum()\n",
    "    rep_ceil_femm = df.loc['F'].iloc[-1]\n",
    "    rep_ceil = rep_ceil_femm + df.loc['M'].iloc[-1]\n",
    "    \n",
    "    avg = rep_tot_femm/rep_tot\n",
    "    top = rep_ceil_femm/rep_ceil\n",
    "    \n",
    "    i = (rep_tot_femm/rep_tot) / (rep_ceil_femm/rep_ceil)\n",
    "    return avg, top, i\n",
    "\n",
    "pd.DataFrame.indice = indice"
   ]
  },
  {
   "cell_type": "markdown",
   "id": "a406c245",
   "metadata": {
    "scrolled": true
   },
   "source": [
    "l = []\n",
    "for ateneo in df['AteneoNOME'].unique():\n",
    "    ndf = df.filtro(ateneo, stem=True).conto()\n",
    "    rap = ndf['iscritti']['M']/(ndf['iscritti']['M']+ndf['iscritti']['F'])*100\n",
    "    l.append((ateneo,rap))"
   ]
  },
  {
   "cell_type": "markdown",
   "id": "9696df24",
   "metadata": {
    "scrolled": true
   },
   "source": [
    "for ateneo in df['AteneoNOME'].unique(): #ci abbiamo fatto tutte le cartelle!\n",
    "    \n",
    "    ndf = df.filtro(ateneo, stem=False).conto()\n",
    "    if 'iscritti' in ndf.columns and ndf['iscritti'].sum() > 15000:\n",
    "        path = f'/Users/sava/Desktop/Università genere/{ateneo}/NO_STEM'\n",
    "        os.makedirs(path,exist_ok=True)\n",
    "        ndf.to_csv(f'{path}/no_stem.csv')\n",
    "        fig = ndf.grafico(tit=f'{ateneo} - no stem')\n",
    "        fig.savefig(f'{path}/no_stem.png')\n",
    "    \n",
    "    ndf = df.filtro(ateneo, stem=True).conto()\n",
    "    \n",
    "    if 'iscritti' in ndf.columns and ndf['iscritti'].sum() > 15000:\n",
    "        path = f'/Users/sava/Desktop/Università genere/{ateneo}/STEM'\n",
    "        os.makedirs(path,exist_ok=True)\n",
    "        ndf.to_csv(f'{path}/stem.csv')\n",
    "        ndf.grafico(tit=f'{ateneo} - stem')\n",
    "        fig = ndf.grafico(tit=f'{ateneo} - no stem')\n",
    "        fig.savefig(f'{path}/stem.png')"
   ]
  },
  {
   "cell_type": "code",
   "execution_count": 111,
   "id": "bd5d016f",
   "metadata": {},
   "outputs": [
    {
     "data": {
      "text/plain": [
       "array(['TOTALE ATENEI', 'Cagliari - Università degli studi',\n",
       "       'Sassari - Università degli studi',\n",
       "       'Catania - Università degli studi',\n",
       "       'Enna - Libera Università della Sicilia Centrale \"KORE\"',\n",
       "       'Messina - Università degli studi',\n",
       "       'Palermo - Università degli studi',\n",
       "       'Reggio Calabria - Università per Stranieri',\n",
       "       'Reggio Calabria - Università degli studi Mediterranea',\n",
       "       'Catanzaro - Università degli studi \"Magna Grecia\"',\n",
       "       'Arcavacata di Rende - Università della Calabria',\n",
       "       'Potenza - Università degli studi della Basilicata',\n",
       "       'Lecce - Università del Salento',\n",
       "       'Casamassima - Libera Università Mediterranea \"Giuseppe Degennaro\"',\n",
       "       'Bari - Politecnico', 'Bari - Università degli studi',\n",
       "       'Foggia - Università degli studi',\n",
       "       'Campobasso - Università degli studi del Molise',\n",
       "       'Torrevecchia Teatina (CH) - Università telematica \"Leonardo da Vinci\"',\n",
       "       \"Chieti e Pescara - Università degli studi Gabriele D'Annunzio\",\n",
       "       'Teramo - Università degli studi',\n",
       "       \"L'Aquila - Università degli studi\",\n",
       "       'Salerno - Università degli studi',\n",
       "       'Napoli - Università telematica \"Pegaso\"',\n",
       "       'Napoli - Università degli studi della Campania \"Luigi Vanvitelli\"',\n",
       "       'Napoli - Università degli studi \"Suor Orsola Benincasa\"',\n",
       "       'Napoli - Università degli studi \"L\\' Orientale\"',\n",
       "       'Napoli - Università degli studi \"Parthenope\"',\n",
       "       'Napoli - Università degli studi \"Federico II\"',\n",
       "       'Benevento - Università telematica \"Giustino Fortunato\"',\n",
       "       'Benevento - Università degli studi del Sannio',\n",
       "       'Cassino - Università degli Studi di Cassino e del Lazio Meridionale',\n",
       "       'Roma - Saint Camillus International',\n",
       "       'Roma - Link Campus University',\n",
       "       'Roma - Università telematica \"San Raffaele\" - già \"UNITEL\"',\n",
       "       'Roma - Università telematica Niccolò Cusano (già UNISU)',\n",
       "       'Roma - Universitas telematica Mercatorum',\n",
       "       'Roma - Università telematica internazionale \"UNINETTUNO\"',\n",
       "       'Roma - Università Europea',\n",
       "       'Roma - Università telematica \"Unitelma Sapienza\"',\n",
       "       'Roma - Università telematica \"Guglielmo Marconi\"',\n",
       "       'Roma - Università degli Studi Internazionali \\x96 UNINT',\n",
       "       'Roma - Università \"Campus Bio-Medico\"',\n",
       "       'Roma - III Università degli studi',\n",
       "       'Roma - Università degli studi del \"Foro Italico\"',\n",
       "       'Roma - LUISS Libera Università internazionale degli studi sociali Guido Carli',\n",
       "       'Roma - Libera Università Maria SS.Assunta (LUMSA)',\n",
       "       'Roma - Università degli studi di \"Tor Vergata\"',\n",
       "       'Roma - Università degli studi \"La Sapienza\"',\n",
       "       'Viterbo - Università della Tuscia',\n",
       "       'Perugia - Università per stranieri',\n",
       "       'Perugia - Università degli studi',\n",
       "       'Siena - Università per stranieri',\n",
       "       'Siena - Università degli studi', 'Pisa - Università degli studi',\n",
       "       'Firenze - Università telematica \"Italian University line\"',\n",
       "       'Firenze - Università degli studi',\n",
       "       'Camerino - Università degli studi',\n",
       "       'Macerata - Università degli studi',\n",
       "       'Ancona - Università Politecnica delle Marche',\n",
       "       'Urbino - Università degli studi \"Carlo Bo\"',\n",
       "       'Ferrara - Università degli studi',\n",
       "       'Bologna - Università degli studi',\n",
       "       'Modena e Reggio Emilia - Università degli studi',\n",
       "       'Parma - Università degli studi',\n",
       "       'Trieste - Università degli studi',\n",
       "       'Udine - Università degli studi',\n",
       "       'Padova - Università degli studi', 'Venezia - Università IUAV',\n",
       "       'Venezia - Università degli studi \"Cà Foscari\"',\n",
       "       'Verona - Università degli studi',\n",
       "       'Trento - Università degli studi', 'Bolzano - Libera Università',\n",
       "       'Pavia - Università degli studi',\n",
       "       'Brescia - Università degli studi',\n",
       "       'Bergamo - Università degli studi',\n",
       "       'Rozzano (MI) Humanitas University',\n",
       "       'Milano-Bicocca - Università degli studi',\n",
       "       'Milano - Università Vita-Salute San Raffaele',\n",
       "       'Milano - Libera Università di Lingue e Comunicazione (IULM)',\n",
       "       'Milano - Università Cattolica del \"Sacro Cuore\"',\n",
       "       'Milano - Università commerciale \"Luigi Bocconi\"',\n",
       "       'Milano - Politecnico', 'Milano - Università degli studi',\n",
       "       'Novedrate (CO) - Università telematica \"e-Campus\"',\n",
       "       \"Varese - Università dell' Insubria\",\n",
       "       'Castellanza - Università \"Carlo Cattaneo\"',\n",
       "       'Genova - Università degli studi',\n",
       "       'Aosta - Università degli studi',\n",
       "       'Bra (CN) - Università di Scienze Gastronomiche',\n",
       "       'Vercelli - Università degli studi del Piemonte orientale \"A. Avogadro\"',\n",
       "       'Torino - Politecnico', 'Torino - Università degli studi',\n",
       "       'Pavia - Istituto universitario di studi superiori',\n",
       "       'Trieste - Scuola internazionale superiore di studi avanzati',\n",
       "       'Lucca - Scuola IMT Alti Studi', 'Pisa - Scuola normale superiore',\n",
       "       'Pisa - Scuola superiore studi universitari e perfezionamento \"S. Anna\"',\n",
       "       \"L'Aquila - Gran Sasso Science Institute\",\n",
       "       'Casamassima - Libera Università Mediterranea \"Jean Monnet\"',\n",
       "       'Firenze - Istituto Italiano di Scienze Umane',\n",
       "       'Roma - Universitas Mercatorum',\n",
       "       'Napoli - Seconda Università degli studi',\n",
       "       'Napoli - Universita telematica \"Pegaso\"',\n",
       "       'Cassino - Università degli studi'], dtype=object)"
      ]
     },
     "execution_count": 111,
     "metadata": {},
     "output_type": "execute_result"
    }
   ],
   "source": [
    "df['AteneoNOME'].unique()"
   ]
  },
  {
   "cell_type": "code",
   "execution_count": 112,
   "id": "1d00909f",
   "metadata": {
    "scrolled": true
   },
   "outputs": [
    {
     "name": "stderr",
     "output_type": "stream",
     "text": [
      "/Users/sava/opt/anaconda3/envs/pythonforjournalists/lib/python3.7/site-packages/ipykernel_launcher.py:18: RuntimeWarning: invalid value encountered in long_scalars\n",
      "/Users/sava/opt/anaconda3/envs/pythonforjournalists/lib/python3.7/site-packages/ipykernel_launcher.py:20: RuntimeWarning: invalid value encountered in long_scalars\n",
      "/Users/sava/opt/anaconda3/envs/pythonforjournalists/lib/python3.7/site-packages/ipykernel_launcher.py:17: RuntimeWarning: invalid value encountered in long_scalars\n",
      "/Users/sava/opt/anaconda3/envs/pythonforjournalists/lib/python3.7/site-packages/ipykernel_launcher.py:20: RuntimeWarning: divide by zero encountered in double_scalars\n"
     ]
    }
   ],
   "source": [
    "unis=[]\n",
    "avgs = []\n",
    "tops = []\n",
    "inds = []\n",
    "cat = []\n",
    "for uni in df['AteneoNOME'].unique():\n",
    "    avg,top,ind = df.filtro(uni,anno=2021).conto().indice(considera_studenti=True)\n",
    "    avgs.append(avg)\n",
    "    tops.append(top)\n",
    "    inds.append(ind)\n",
    "    unis.append(uni)\n",
    "    cat.append('Da iscritte a professoresse ordinarie')\n",
    "    \n",
    "    avg,top,ind = df.filtro(uni,anno=2021).conto().indice(considera_studenti=False)\n",
    "    avgs.append(avg)\n",
    "    tops.append(top)\n",
    "    inds.append(ind)\n",
    "    unis.append(uni)\n",
    "    cat.append('Da ricercatrici a professoresse ordinarie')"
   ]
  },
  {
   "cell_type": "code",
   "execution_count": 119,
   "id": "8614a099",
   "metadata": {},
   "outputs": [],
   "source": [
    "ndf = pd.DataFrame({\n",
    "    'uni':unis,\n",
    "    'medie':avgs,\n",
    "    'top':tops,\n",
    "    'ind':inds,\n",
    "    'cat':cat\n",
    "})\n",
    "ndf = ndf.dropna().sort_values(by=['cat','ind'])"
   ]
  },
  {
   "cell_type": "code",
   "execution_count": 120,
   "id": "7561b8a8",
   "metadata": {},
   "outputs": [],
   "source": [
    "ndf = ndf[ndf['ind']!=np.inf]"
   ]
  },
  {
   "cell_type": "code",
   "execution_count": 121,
   "id": "2d677daf",
   "metadata": {},
   "outputs": [],
   "source": [
    "ndf['medie']=ndf['medie']*100\n",
    "ndf['top']=ndf['top']*100"
   ]
  },
  {
   "cell_type": "code",
   "execution_count": 122,
   "id": "3487008e",
   "metadata": {},
   "outputs": [
    {
     "data": {
      "text/html": [
       "<div>\n",
       "<style scoped>\n",
       "    .dataframe tbody tr th:only-of-type {\n",
       "        vertical-align: middle;\n",
       "    }\n",
       "\n",
       "    .dataframe tbody tr th {\n",
       "        vertical-align: top;\n",
       "    }\n",
       "\n",
       "    .dataframe thead th {\n",
       "        text-align: right;\n",
       "    }\n",
       "</style>\n",
       "<table border=\"1\" class=\"dataframe\">\n",
       "  <thead>\n",
       "    <tr style=\"text-align: right;\">\n",
       "      <th></th>\n",
       "      <th>uni</th>\n",
       "      <th>medie</th>\n",
       "      <th>top</th>\n",
       "      <th>ind</th>\n",
       "      <th>cat</th>\n",
       "    </tr>\n",
       "  </thead>\n",
       "  <tbody>\n",
       "    <tr>\n",
       "      <th>168</th>\n",
       "      <td>Novedrate (CO) - Università telematica \"e-Campus\"</td>\n",
       "      <td>53.998512</td>\n",
       "      <td>60.000000</td>\n",
       "      <td>0.899975</td>\n",
       "      <td>Da iscritte a professoresse ordinarie</td>\n",
       "    </tr>\n",
       "    <tr>\n",
       "      <th>136</th>\n",
       "      <td>Venezia - Università IUAV</td>\n",
       "      <td>58.046694</td>\n",
       "      <td>41.818182</td>\n",
       "      <td>1.388073</td>\n",
       "      <td>Da iscritte a professoresse ordinarie</td>\n",
       "    </tr>\n",
       "    <tr>\n",
       "      <th>100</th>\n",
       "      <td>Perugia - Università per stranieri</td>\n",
       "      <td>65.247148</td>\n",
       "      <td>46.153846</td>\n",
       "      <td>1.413688</td>\n",
       "      <td>Da iscritte a professoresse ordinarie</td>\n",
       "    </tr>\n",
       "    <tr>\n",
       "      <th>176</th>\n",
       "      <td>Aosta - Università degli studi</td>\n",
       "      <td>70.685579</td>\n",
       "      <td>50.000000</td>\n",
       "      <td>1.413712</td>\n",
       "      <td>Da iscritte a professoresse ordinarie</td>\n",
       "    </tr>\n",
       "    <tr>\n",
       "      <th>164</th>\n",
       "      <td>Milano - Politecnico</td>\n",
       "      <td>34.690729</td>\n",
       "      <td>23.809524</td>\n",
       "      <td>1.457011</td>\n",
       "      <td>Da iscritte a professoresse ordinarie</td>\n",
       "    </tr>\n",
       "    <tr>\n",
       "      <th>...</th>\n",
       "      <td>...</td>\n",
       "      <td>...</td>\n",
       "      <td>...</td>\n",
       "      <td>...</td>\n",
       "      <td>...</td>\n",
       "    </tr>\n",
       "    <tr>\n",
       "      <th>203</th>\n",
       "      <td>Roma - Universitas Mercatorum</td>\n",
       "      <td>44.444444</td>\n",
       "      <td>18.181818</td>\n",
       "      <td>2.444444</td>\n",
       "      <td>Da ricercatrici a professoresse ordinarie</td>\n",
       "    </tr>\n",
       "    <tr>\n",
       "      <th>69</th>\n",
       "      <td>Roma - Università telematica \"San Raffaele\" - ...</td>\n",
       "      <td>58.928571</td>\n",
       "      <td>23.076923</td>\n",
       "      <td>2.553571</td>\n",
       "      <td>Da ricercatrici a professoresse ordinarie</td>\n",
       "    </tr>\n",
       "    <tr>\n",
       "      <th>67</th>\n",
       "      <td>Roma - Link Campus University</td>\n",
       "      <td>45.833333</td>\n",
       "      <td>16.666667</td>\n",
       "      <td>2.750000</td>\n",
       "      <td>Da ricercatrici a professoresse ordinarie</td>\n",
       "    </tr>\n",
       "    <tr>\n",
       "      <th>79</th>\n",
       "      <td>Roma - Università telematica \"Unitelma Sapienza\"</td>\n",
       "      <td>50.000000</td>\n",
       "      <td>18.181818</td>\n",
       "      <td>2.750000</td>\n",
       "      <td>Da ricercatrici a professoresse ordinarie</td>\n",
       "    </tr>\n",
       "    <tr>\n",
       "      <th>89</th>\n",
       "      <td>Roma - Università degli studi del \"Foro Italico\"</td>\n",
       "      <td>47.540984</td>\n",
       "      <td>15.384615</td>\n",
       "      <td>3.090164</td>\n",
       "      <td>Da ricercatrici a professoresse ordinarie</td>\n",
       "    </tr>\n",
       "  </tbody>\n",
       "</table>\n",
       "<p>186 rows × 5 columns</p>\n",
       "</div>"
      ],
      "text/plain": [
       "                                                   uni      medie        top  \\\n",
       "168  Novedrate (CO) - Università telematica \"e-Campus\"  53.998512  60.000000   \n",
       "136                          Venezia - Università IUAV  58.046694  41.818182   \n",
       "100                 Perugia - Università per stranieri  65.247148  46.153846   \n",
       "176                     Aosta - Università degli studi  70.685579  50.000000   \n",
       "164                               Milano - Politecnico  34.690729  23.809524   \n",
       "..                                                 ...        ...        ...   \n",
       "203                      Roma - Universitas Mercatorum  44.444444  18.181818   \n",
       "69   Roma - Università telematica \"San Raffaele\" - ...  58.928571  23.076923   \n",
       "67                       Roma - Link Campus University  45.833333  16.666667   \n",
       "79    Roma - Università telematica \"Unitelma Sapienza\"  50.000000  18.181818   \n",
       "89    Roma - Università degli studi del \"Foro Italico\"  47.540984  15.384615   \n",
       "\n",
       "          ind                                        cat  \n",
       "168  0.899975      Da iscritte a professoresse ordinarie  \n",
       "136  1.388073      Da iscritte a professoresse ordinarie  \n",
       "100  1.413688      Da iscritte a professoresse ordinarie  \n",
       "176  1.413712      Da iscritte a professoresse ordinarie  \n",
       "164  1.457011      Da iscritte a professoresse ordinarie  \n",
       "..        ...                                        ...  \n",
       "203  2.444444  Da ricercatrici a professoresse ordinarie  \n",
       "69   2.553571  Da ricercatrici a professoresse ordinarie  \n",
       "67   2.750000  Da ricercatrici a professoresse ordinarie  \n",
       "79   2.750000  Da ricercatrici a professoresse ordinarie  \n",
       "89   3.090164  Da ricercatrici a professoresse ordinarie  \n",
       "\n",
       "[186 rows x 5 columns]"
      ]
     },
     "execution_count": 122,
     "metadata": {},
     "output_type": "execute_result"
    }
   ],
   "source": [
    "ndf"
   ]
  },
  {
   "cell_type": "code",
   "execution_count": 123,
   "id": "83e146d1",
   "metadata": {},
   "outputs": [],
   "source": [
    "ndf.to_csv('GCI.csv',index=False)"
   ]
  },
  {
   "cell_type": "markdown",
   "id": "7ccf5dc9",
   "metadata": {},
   "source": [
    "# per questionario"
   ]
  },
  {
   "cell_type": "code",
   "execution_count": 63,
   "id": "e4811d1e",
   "metadata": {},
   "outputs": [
    {
     "data": {
      "text/plain": [
       "1.444780089294196"
      ]
     },
     "execution_count": 63,
     "metadata": {},
     "output_type": "execute_result"
    }
   ],
   "source": [
    "df.filtro('Roma - Università degli studi \"La Sapienza\"').conto().indice()"
   ]
  },
  {
   "cell_type": "code",
   "execution_count": 64,
   "id": "07a7b051",
   "metadata": {},
   "outputs": [
    {
     "data": {
      "text/plain": [
       "1.4924130566614813"
      ]
     },
     "execution_count": 64,
     "metadata": {},
     "output_type": "execute_result"
    }
   ],
   "source": [
    "df.filtro('Palermo - Università degli studi').conto().indice()"
   ]
  },
  {
   "cell_type": "code",
   "execution_count": 65,
   "id": "7653a9be",
   "metadata": {},
   "outputs": [
    {
     "data": {
      "text/plain": [
       "1.5401583842297377"
      ]
     },
     "execution_count": 65,
     "metadata": {},
     "output_type": "execute_result"
    }
   ],
   "source": [
    "df.filtro('Napoli - Università degli studi \"Federico II\"').conto().indice()"
   ]
  },
  {
   "cell_type": "code",
   "execution_count": 66,
   "id": "e85b66b1",
   "metadata": {},
   "outputs": [
    {
     "data": {
      "text/plain": [
       "1.416000679600865"
      ]
     },
     "execution_count": 66,
     "metadata": {},
     "output_type": "execute_result"
    }
   ],
   "source": [
    "df.filtro('Milano - Università degli studi').conto().indice()"
   ]
  },
  {
   "cell_type": "code",
   "execution_count": 69,
   "id": "863a023b",
   "metadata": {},
   "outputs": [
    {
     "data": {
      "text/html": [
       "<div>\n",
       "<style scoped>\n",
       "    .dataframe tbody tr th:only-of-type {\n",
       "        vertical-align: middle;\n",
       "    }\n",
       "\n",
       "    .dataframe tbody tr th {\n",
       "        vertical-align: top;\n",
       "    }\n",
       "\n",
       "    .dataframe thead th {\n",
       "        text-align: right;\n",
       "    }\n",
       "</style>\n",
       "<table border=\"1\" class=\"dataframe\">\n",
       "  <thead>\n",
       "    <tr style=\"text-align: right;\">\n",
       "      <th></th>\n",
       "      <th>uni</th>\n",
       "      <th>ind</th>\n",
       "    </tr>\n",
       "  </thead>\n",
       "  <tbody>\n",
       "    <tr>\n",
       "      <th>92</th>\n",
       "      <td>Torino - Università degli studi</td>\n",
       "      <td>1.362921</td>\n",
       "    </tr>\n",
       "    <tr>\n",
       "      <th>91</th>\n",
       "      <td>Torino - Politecnico</td>\n",
       "      <td>1.618755</td>\n",
       "    </tr>\n",
       "  </tbody>\n",
       "</table>\n",
       "</div>"
      ],
      "text/plain": [
       "                                uni       ind\n",
       "92  Torino - Università degli studi  1.362921\n",
       "91             Torino - Politecnico  1.618755"
      ]
     },
     "execution_count": 69,
     "metadata": {},
     "output_type": "execute_result"
    }
   ],
   "source": [
    "ndf[ndf['uni'].str.contains('torino',flags=re.I)]"
   ]
  },
  {
   "cell_type": "code",
   "execution_count": null,
   "id": "66cd819a",
   "metadata": {},
   "outputs": [],
   "source": []
  }
 ],
 "metadata": {
  "kernelspec": {
   "display_name": "Python 3",
   "language": "python",
   "name": "python3"
  },
  "language_info": {
   "codemirror_mode": {
    "name": "ipython",
    "version": 3
   },
   "file_extension": ".py",
   "mimetype": "text/x-python",
   "name": "python",
   "nbconvert_exporter": "python",
   "pygments_lexer": "ipython3",
   "version": "3.7.13"
  }
 },
 "nbformat": 4,
 "nbformat_minor": 5
}
