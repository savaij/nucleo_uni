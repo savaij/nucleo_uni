{
 "cells": [
  {
   "cell_type": "code",
   "execution_count": 1,
   "id": "72c8cec0",
   "metadata": {},
   "outputs": [],
   "source": [
    "import pandas as pd\n",
    "import geopandas as gpd"
   ]
  },
  {
   "cell_type": "code",
   "execution_count": 3,
   "id": "cd68d7fd",
   "metadata": {},
   "outputs": [],
   "source": [
    "gdf = gpd.read_file('/Users/sava/Desktop/task/Nucleo uni/ascensore sociale/italia.json')"
   ]
  },
  {
   "cell_type": "code",
   "execution_count": 5,
   "id": "604b5d37",
   "metadata": {},
   "outputs": [],
   "source": [
    "df = pd.read_csv('/Users/sava/Desktop/task/Nucleo uni/ascensore sociale/tab_prov.csv')"
   ]
  },
  {
   "cell_type": "code",
   "execution_count": 8,
   "id": "154057f5",
   "metadata": {},
   "outputs": [
    {
     "data": {
      "text/plain": [
       "0                     Torino\n",
       "1                   Vercelli\n",
       "2                     Novara\n",
       "3                      Cuneo\n",
       "4                       Asti\n",
       "               ...          \n",
       "102     Verbano-Cusio-Ossola\n",
       "103    Monza e della Brianza\n",
       "104                    Fermo\n",
       "105    Barletta-Andria-Trani\n",
       "106             Sud Sardegna\n",
       "Name: DEN_UTS, Length: 107, dtype: object"
      ]
     },
     "execution_count": 8,
     "metadata": {},
     "output_type": "execute_result"
    }
   ],
   "source": [
    "gdf['DEN_UTS']"
   ]
  },
  {
   "cell_type": "code",
   "execution_count": 57,
   "id": "a45a26d8",
   "metadata": {},
   "outputs": [
    {
     "data": {
      "text/plain": [
       "72               Ogliastra\n",
       "104         Olbia - Tempio\n",
       "105        Medio Campidano\n",
       "109    Carbonia - Iglesias\n",
       "Name: Province Name, dtype: object"
      ]
     },
     "execution_count": 57,
     "metadata": {},
     "output_type": "execute_result"
    }
   ],
   "source": [
    "df['Province Name'][~df['Province Name'].isin(gdf['DEN_UTS'])]"
   ]
  },
  {
   "cell_type": "code",
   "execution_count": 58,
   "id": "e608d72b",
   "metadata": {},
   "outputs": [
    {
     "data": {
      "text/plain": [
       "106    Sud Sardegna\n",
       "Name: DEN_UTS, dtype: object"
      ]
     },
     "execution_count": 58,
     "metadata": {},
     "output_type": "execute_result"
    }
   ],
   "source": [
    "gdf['DEN_UTS'][~gdf['DEN_UTS'].isin(df['Province Name'])]"
   ]
  },
  {
   "cell_type": "code",
   "execution_count": 56,
   "id": "3b17cc03",
   "metadata": {},
   "outputs": [],
   "source": [
    "gdf.loc[105,'DEN_UTS'] = 'Barletta-Trani-Andria'"
   ]
  },
  {
   "cell_type": "code",
   "execution_count": 62,
   "id": "dc45cb52",
   "metadata": {},
   "outputs": [
    {
     "data": {
      "text/html": [
       "<div>\n",
       "<style scoped>\n",
       "    .dataframe tbody tr th:only-of-type {\n",
       "        vertical-align: middle;\n",
       "    }\n",
       "\n",
       "    .dataframe tbody tr th {\n",
       "        vertical-align: top;\n",
       "    }\n",
       "\n",
       "    .dataframe thead th {\n",
       "        text-align: right;\n",
       "    }\n",
       "</style>\n",
       "<table border=\"1\" class=\"dataframe\">\n",
       "  <thead>\n",
       "    <tr style=\"text-align: right;\">\n",
       "      <th></th>\n",
       "      <th>Province Name</th>\n",
       "      <th>Q1Q5</th>\n",
       "    </tr>\n",
       "  </thead>\n",
       "  <tbody>\n",
       "    <tr>\n",
       "      <th>0</th>\n",
       "      <td>Bolzano</td>\n",
       "      <td>0.372</td>\n",
       "    </tr>\n",
       "    <tr>\n",
       "      <th>1</th>\n",
       "      <td>Aosta</td>\n",
       "      <td>0.267</td>\n",
       "    </tr>\n",
       "    <tr>\n",
       "      <th>2</th>\n",
       "      <td>Lecco</td>\n",
       "      <td>0.260</td>\n",
       "    </tr>\n",
       "    <tr>\n",
       "      <th>3</th>\n",
       "      <td>Belluno</td>\n",
       "      <td>0.247</td>\n",
       "    </tr>\n",
       "    <tr>\n",
       "      <th>4</th>\n",
       "      <td>Modena</td>\n",
       "      <td>0.242</td>\n",
       "    </tr>\n",
       "    <tr>\n",
       "      <th>...</th>\n",
       "      <td>...</td>\n",
       "      <td>...</td>\n",
       "    </tr>\n",
       "    <tr>\n",
       "      <th>105</th>\n",
       "      <td>Medio Campidano</td>\n",
       "      <td>0.051</td>\n",
       "    </tr>\n",
       "    <tr>\n",
       "      <th>106</th>\n",
       "      <td>Oristano</td>\n",
       "      <td>0.050</td>\n",
       "    </tr>\n",
       "    <tr>\n",
       "      <th>107</th>\n",
       "      <td>Nuoro</td>\n",
       "      <td>0.049</td>\n",
       "    </tr>\n",
       "    <tr>\n",
       "      <th>108</th>\n",
       "      <td>Agrigento</td>\n",
       "      <td>0.047</td>\n",
       "    </tr>\n",
       "    <tr>\n",
       "      <th>109</th>\n",
       "      <td>Carbonia - Iglesias</td>\n",
       "      <td>0.044</td>\n",
       "    </tr>\n",
       "  </tbody>\n",
       "</table>\n",
       "<p>110 rows × 2 columns</p>\n",
       "</div>"
      ],
      "text/plain": [
       "           Province Name   Q1Q5\n",
       "0                Bolzano  0.372\n",
       "1                  Aosta  0.267\n",
       "2                  Lecco  0.260\n",
       "3                Belluno  0.247\n",
       "4                 Modena  0.242\n",
       "..                   ...    ...\n",
       "105      Medio Campidano  0.051\n",
       "106             Oristano  0.050\n",
       "107                Nuoro  0.049\n",
       "108            Agrigento  0.047\n",
       "109  Carbonia - Iglesias  0.044\n",
       "\n",
       "[110 rows x 2 columns]"
      ]
     },
     "execution_count": 62,
     "metadata": {},
     "output_type": "execute_result"
    }
   ],
   "source": [
    "df"
   ]
  },
  {
   "cell_type": "code",
   "execution_count": 71,
   "id": "e58a3d8f",
   "metadata": {},
   "outputs": [],
   "source": [
    "defi = gdf.merge(df, left_on='DEN_UTS',right_on='Province Name', how='outer').dropna(subset=['geometry'])"
   ]
  },
  {
   "cell_type": "code",
   "execution_count": 72,
   "id": "343b5743",
   "metadata": {},
   "outputs": [],
   "source": [
    "defi.to_file('q1q5.geojson',driver='GeoJSON',index=False)"
   ]
  },
  {
   "cell_type": "code",
   "execution_count": null,
   "id": "bd99ade5",
   "metadata": {},
   "outputs": [],
   "source": []
  }
 ],
 "metadata": {
  "kernelspec": {
   "display_name": "Python 3",
   "language": "python",
   "name": "python3"
  },
  "language_info": {
   "codemirror_mode": {
    "name": "ipython",
    "version": 3
   },
   "file_extension": ".py",
   "mimetype": "text/x-python",
   "name": "python",
   "nbconvert_exporter": "python",
   "pygments_lexer": "ipython3",
   "version": "3.7.13"
  }
 },
 "nbformat": 4,
 "nbformat_minor": 5
}
